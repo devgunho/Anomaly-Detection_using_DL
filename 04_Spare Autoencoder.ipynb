{
 "cells": [
  {
   "cell_type": "code",
   "execution_count": 1,
   "id": "aa5f2036",
   "metadata": {
    "ExecuteTime": {
     "end_time": "2021-10-04T07:46:26.030297Z",
     "start_time": "2021-10-04T07:46:21.737396Z"
    }
   },
   "outputs": [
    {
     "name": "stdout",
     "output_type": "stream",
     "text": [
      "Python:  3.8.10 (default, May 19 2021, 13:12:57) [MSC v.1916 64 bit (AMD64)]\n",
      "pandas:  1.2.4\n",
      "numpy:  1.20.2\n",
      "seaborn:  0.11.1\n",
      "matplotlib:  3.3.4\n",
      "sklearn:  0.24.2\n",
      "Keras:  2.5.0\n",
      "Tensorflow:  2.5.0\n"
     ]
    }
   ],
   "source": [
    "import tensorflow as tf\n",
    "import sys\n",
    "from tensorflow.python import keras\n",
    "from tensorflow.python.keras import optimizers\n",
    "from tensorflow.python.keras import losses\n",
    "from tensorflow.python.keras.models import Sequential, Model\n",
    "from tensorflow.python.keras.layers import Dense, Input, Dropout, Embedding, LSTM\n",
    "# from tensorflow.python.keras.optimizers import RMSprop\n",
    "from tensorflow.python.keras.optimizers import adam_v2\n",
    "# from tensorflow.python.keras.optimizers import Nadam\n",
    "from tensorflow.python.keras.preprocessing import sequence\n",
    "from tensorflow.python.keras.callbacks import TensorBoard\n",
    "from tensorflow.python.keras import regularizers\n",
    "\n",
    "import sklearn\n",
    "from sklearn.preprocessing import StandardScaler\n",
    "from sklearn.model_selection import train_test_split\n",
    "from sklearn.metrics import confusion_matrix, roc_auc_score\n",
    "from sklearn.preprocessing import MinMaxScaler\n",
    "from sklearn.metrics import classification_report\n",
    "\n",
    "import seaborn as sns\n",
    "import pandas as pd\n",
    "import numpy as np\n",
    "import matplotlib\n",
    "\n",
    "import matplotlib.pyplot as plt\n",
    "import matplotlib.gridspec as gridspec\n",
    "%matplotlib inline\n",
    "\n",
    "print(\"Python: \", sys.version)\n",
    "\n",
    "print(\"pandas: \", pd.__version__)\n",
    "print(\"numpy: \", np.__version__)\n",
    "print(\"seaborn: \", sns.__version__)\n",
    "print(\"matplotlib: \", matplotlib.__version__)\n",
    "print(\"sklearn: \", sklearn.__version__)\n",
    "print(\"Keras: \", keras.__version__)\n",
    "print(\"Tensorflow: \", tf.__version__)"
   ]
  },
  {
   "cell_type": "code",
   "execution_count": 2,
   "id": "58dbabf0",
   "metadata": {
    "ExecuteTime": {
     "end_time": "2021-10-04T07:46:26.045306Z",
     "start_time": "2021-10-04T07:46:26.031297Z"
    }
   },
   "outputs": [],
   "source": [
    "class Visualization:\n",
    "    labels = [\"Normal\", \"Anomaly\"]\n",
    "\n",
    "    def draw_confusion_matrix(self, y, ypred):\n",
    "        matrix = confusion_matrix(y, ypred)\n",
    "\n",
    "        plt.figure(figsize=(10, 8))\n",
    "        colors = [\"orange\", \"green\"]\n",
    "        sns.heatmap(matrix,\n",
    "                    xticklabels=self.labels,\n",
    "                    yticklabels=self.labels,\n",
    "                    cmap=colors,\n",
    "                    annot=True,\n",
    "                    fmt=\"d\")\n",
    "        plt.title(\"Confusion Matrix\")\n",
    "        plt.ylabel('Actual')\n",
    "        plt.xlabel('Predicted')\n",
    "        plt.show()\n",
    "\n",
    "    def draw_anomaly(self, y, error, threshold):\n",
    "        groupsDF = pd.DataFrame({'error': error, 'true': y}).groupby('true')\n",
    "\n",
    "        figure, axes = plt.subplots(figsize=(12, 8))\n",
    "\n",
    "        for name, group in groupsDF:\n",
    "            axes.plot(group.index,\n",
    "                      group.error,\n",
    "                      marker='x' if name == 1 else 'o',\n",
    "                      linestyle='',\n",
    "                      color='r' if name == 1 else 'g',\n",
    "                      label=\"Anomaly\" if name == 1 else \"Normal\")\n",
    "\n",
    "        axes.hlines(threshold,\n",
    "                    axes.get_xlim()[0],\n",
    "                    axes.get_xlim()[1],\n",
    "                    colors=\"b\",\n",
    "                    zorder=100,\n",
    "                    label='Threshold')\n",
    "        axes.legend()\n",
    "\n",
    "        plt.title(\"Anomalies\")\n",
    "        plt.ylabel(\"Error\")\n",
    "        plt.xlabel(\"Data\")\n",
    "        plt.show()\n",
    "\n",
    "    def draw_error(self, error, threshold):\n",
    "        plt.plot(error, marker='o', ms=3.5, linestyle='', label='Point')\n",
    "\n",
    "        plt.hlines(threshold,\n",
    "                   xmin=0,\n",
    "                   xmax=len(error) - 1,\n",
    "                   colors=\"b\",\n",
    "                   zorder=100,\n",
    "                   label='Threshold')\n",
    "        plt.legend()\n",
    "        plt.title(\"Reconstruction error\")\n",
    "        plt.ylabel(\"Error\")\n",
    "        plt.xlabel(\"Data\")\n",
    "        plt.show()"
   ]
  },
  {
   "cell_type": "code",
   "execution_count": 3,
   "id": "fa6a1948",
   "metadata": {
    "ExecuteTime": {
     "end_time": "2021-10-04T07:46:27.918866Z",
     "start_time": "2021-10-04T07:46:26.046297Z"
    }
   },
   "outputs": [
    {
     "name": "stdout",
     "output_type": "stream",
     "text": [
      "284807\n"
     ]
    },
    {
     "data": {
      "text/html": [
       "<div>\n",
       "<style scoped>\n",
       "    .dataframe tbody tr th:only-of-type {\n",
       "        vertical-align: middle;\n",
       "    }\n",
       "\n",
       "    .dataframe tbody tr th {\n",
       "        vertical-align: top;\n",
       "    }\n",
       "\n",
       "    .dataframe thead th {\n",
       "        text-align: right;\n",
       "    }\n",
       "</style>\n",
       "<table border=\"1\" class=\"dataframe\">\n",
       "  <thead>\n",
       "    <tr style=\"text-align: right;\">\n",
       "      <th></th>\n",
       "      <th>Time</th>\n",
       "      <th>V1</th>\n",
       "      <th>V2</th>\n",
       "      <th>V3</th>\n",
       "      <th>V4</th>\n",
       "      <th>V5</th>\n",
       "      <th>V6</th>\n",
       "      <th>V7</th>\n",
       "      <th>V8</th>\n",
       "      <th>V9</th>\n",
       "      <th>...</th>\n",
       "      <th>V21</th>\n",
       "      <th>V22</th>\n",
       "      <th>V23</th>\n",
       "      <th>V24</th>\n",
       "      <th>V25</th>\n",
       "      <th>V26</th>\n",
       "      <th>V27</th>\n",
       "      <th>V28</th>\n",
       "      <th>Amount</th>\n",
       "      <th>Class</th>\n",
       "    </tr>\n",
       "  </thead>\n",
       "  <tbody>\n",
       "    <tr>\n",
       "      <th>0</th>\n",
       "      <td>0.0</td>\n",
       "      <td>-1.359807</td>\n",
       "      <td>-0.072781</td>\n",
       "      <td>2.536347</td>\n",
       "      <td>1.378155</td>\n",
       "      <td>-0.338321</td>\n",
       "      <td>0.462388</td>\n",
       "      <td>0.239599</td>\n",
       "      <td>0.098698</td>\n",
       "      <td>0.363787</td>\n",
       "      <td>...</td>\n",
       "      <td>-0.018307</td>\n",
       "      <td>0.277838</td>\n",
       "      <td>-0.110474</td>\n",
       "      <td>0.066928</td>\n",
       "      <td>0.128539</td>\n",
       "      <td>-0.189115</td>\n",
       "      <td>0.133558</td>\n",
       "      <td>-0.021053</td>\n",
       "      <td>149.62</td>\n",
       "      <td>0</td>\n",
       "    </tr>\n",
       "    <tr>\n",
       "      <th>1</th>\n",
       "      <td>0.0</td>\n",
       "      <td>1.191857</td>\n",
       "      <td>0.266151</td>\n",
       "      <td>0.166480</td>\n",
       "      <td>0.448154</td>\n",
       "      <td>0.060018</td>\n",
       "      <td>-0.082361</td>\n",
       "      <td>-0.078803</td>\n",
       "      <td>0.085102</td>\n",
       "      <td>-0.255425</td>\n",
       "      <td>...</td>\n",
       "      <td>-0.225775</td>\n",
       "      <td>-0.638672</td>\n",
       "      <td>0.101288</td>\n",
       "      <td>-0.339846</td>\n",
       "      <td>0.167170</td>\n",
       "      <td>0.125895</td>\n",
       "      <td>-0.008983</td>\n",
       "      <td>0.014724</td>\n",
       "      <td>2.69</td>\n",
       "      <td>0</td>\n",
       "    </tr>\n",
       "    <tr>\n",
       "      <th>2</th>\n",
       "      <td>1.0</td>\n",
       "      <td>-1.358354</td>\n",
       "      <td>-1.340163</td>\n",
       "      <td>1.773209</td>\n",
       "      <td>0.379780</td>\n",
       "      <td>-0.503198</td>\n",
       "      <td>1.800499</td>\n",
       "      <td>0.791461</td>\n",
       "      <td>0.247676</td>\n",
       "      <td>-1.514654</td>\n",
       "      <td>...</td>\n",
       "      <td>0.247998</td>\n",
       "      <td>0.771679</td>\n",
       "      <td>0.909412</td>\n",
       "      <td>-0.689281</td>\n",
       "      <td>-0.327642</td>\n",
       "      <td>-0.139097</td>\n",
       "      <td>-0.055353</td>\n",
       "      <td>-0.059752</td>\n",
       "      <td>378.66</td>\n",
       "      <td>0</td>\n",
       "    </tr>\n",
       "    <tr>\n",
       "      <th>3</th>\n",
       "      <td>1.0</td>\n",
       "      <td>-0.966272</td>\n",
       "      <td>-0.185226</td>\n",
       "      <td>1.792993</td>\n",
       "      <td>-0.863291</td>\n",
       "      <td>-0.010309</td>\n",
       "      <td>1.247203</td>\n",
       "      <td>0.237609</td>\n",
       "      <td>0.377436</td>\n",
       "      <td>-1.387024</td>\n",
       "      <td>...</td>\n",
       "      <td>-0.108300</td>\n",
       "      <td>0.005274</td>\n",
       "      <td>-0.190321</td>\n",
       "      <td>-1.175575</td>\n",
       "      <td>0.647376</td>\n",
       "      <td>-0.221929</td>\n",
       "      <td>0.062723</td>\n",
       "      <td>0.061458</td>\n",
       "      <td>123.50</td>\n",
       "      <td>0</td>\n",
       "    </tr>\n",
       "    <tr>\n",
       "      <th>4</th>\n",
       "      <td>2.0</td>\n",
       "      <td>-1.158233</td>\n",
       "      <td>0.877737</td>\n",
       "      <td>1.548718</td>\n",
       "      <td>0.403034</td>\n",
       "      <td>-0.407193</td>\n",
       "      <td>0.095921</td>\n",
       "      <td>0.592941</td>\n",
       "      <td>-0.270533</td>\n",
       "      <td>0.817739</td>\n",
       "      <td>...</td>\n",
       "      <td>-0.009431</td>\n",
       "      <td>0.798278</td>\n",
       "      <td>-0.137458</td>\n",
       "      <td>0.141267</td>\n",
       "      <td>-0.206010</td>\n",
       "      <td>0.502292</td>\n",
       "      <td>0.219422</td>\n",
       "      <td>0.215153</td>\n",
       "      <td>69.99</td>\n",
       "      <td>0</td>\n",
       "    </tr>\n",
       "  </tbody>\n",
       "</table>\n",
       "<p>5 rows × 31 columns</p>\n",
       "</div>"
      ],
      "text/plain": [
       "   Time        V1        V2        V3        V4        V5        V6        V7  \\\n",
       "0   0.0 -1.359807 -0.072781  2.536347  1.378155 -0.338321  0.462388  0.239599   \n",
       "1   0.0  1.191857  0.266151  0.166480  0.448154  0.060018 -0.082361 -0.078803   \n",
       "2   1.0 -1.358354 -1.340163  1.773209  0.379780 -0.503198  1.800499  0.791461   \n",
       "3   1.0 -0.966272 -0.185226  1.792993 -0.863291 -0.010309  1.247203  0.237609   \n",
       "4   2.0 -1.158233  0.877737  1.548718  0.403034 -0.407193  0.095921  0.592941   \n",
       "\n",
       "         V8        V9  ...       V21       V22       V23       V24       V25  \\\n",
       "0  0.098698  0.363787  ... -0.018307  0.277838 -0.110474  0.066928  0.128539   \n",
       "1  0.085102 -0.255425  ... -0.225775 -0.638672  0.101288 -0.339846  0.167170   \n",
       "2  0.247676 -1.514654  ...  0.247998  0.771679  0.909412 -0.689281 -0.327642   \n",
       "3  0.377436 -1.387024  ... -0.108300  0.005274 -0.190321 -1.175575  0.647376   \n",
       "4 -0.270533  0.817739  ... -0.009431  0.798278 -0.137458  0.141267 -0.206010   \n",
       "\n",
       "        V26       V27       V28  Amount  Class  \n",
       "0 -0.189115  0.133558 -0.021053  149.62      0  \n",
       "1  0.125895 -0.008983  0.014724    2.69      0  \n",
       "2 -0.139097 -0.055353 -0.059752  378.66      0  \n",
       "3 -0.221929  0.062723  0.061458  123.50      0  \n",
       "4  0.502292  0.219422  0.215153   69.99      0  \n",
       "\n",
       "[5 rows x 31 columns]"
      ]
     },
     "execution_count": 3,
     "metadata": {},
     "output_type": "execute_result"
    }
   ],
   "source": [
    "filePath = './datasets/CreditCard.csv'\n",
    "df = pd.read_csv(filepath_or_buffer=filePath, header=0, sep=',')\n",
    "print(df.shape[0])\n",
    "df.head()"
   ]
  },
  {
   "cell_type": "code",
   "execution_count": 4,
   "id": "67ca4a75",
   "metadata": {
    "ExecuteTime": {
     "end_time": "2021-10-04T07:46:27.998624Z",
     "start_time": "2021-10-04T07:46:27.919865Z"
    }
   },
   "outputs": [],
   "source": [
    "df['Amount'] = StandardScaler().fit_transform(\n",
    "    df['Amount'].values.reshape(-1, 1))\n",
    "df0 = df.query('Class == 0').sample(20000)\n",
    "df1 = df.query('Class == 1').sample(400)\n",
    "df = pd.concat([df0, df1])"
   ]
  },
  {
   "cell_type": "code",
   "execution_count": 5,
   "id": "5a98c8e0",
   "metadata": {
    "ExecuteTime": {
     "end_time": "2021-10-04T07:46:28.014623Z",
     "start_time": "2021-10-04T07:46:27.999623Z"
    }
   },
   "outputs": [
    {
     "name": "stdout",
     "output_type": "stream",
     "text": [
      "(16320, 29) train samples\n",
      "(4080, 29) test samples\n"
     ]
    }
   ],
   "source": [
    "x_train, x_test, y_train, y_test = train_test_split(df.drop(labels=['Time', 'Class'], axis=1),\n",
    "                                                    df['Class'], test_size=0.2, random_state=42)\n",
    "print(x_train.shape, 'train samples')\n",
    "print(x_test.shape, 'test samples')"
   ]
  },
  {
   "cell_type": "code",
   "execution_count": 6,
   "id": "013932e4",
   "metadata": {
    "ExecuteTime": {
     "end_time": "2021-10-04T07:46:28.108622Z",
     "start_time": "2021-10-04T07:46:28.015622Z"
    }
   },
   "outputs": [
    {
     "name": "stdout",
     "output_type": "stream",
     "text": [
      "Model: \"model\"\n",
      "_________________________________________________________________\n",
      "Layer (type)                 Output Shape              Param #   \n",
      "=================================================================\n",
      "input_1 (InputLayer)         [(None, 29)]              0         \n",
      "_________________________________________________________________\n",
      "dense (Dense)                (None, 12)                360       \n",
      "_________________________________________________________________\n",
      "dense_1 (Dense)              (None, 29)                377       \n",
      "=================================================================\n",
      "Total params: 737\n",
      "Trainable params: 737\n",
      "Non-trainable params: 0\n",
      "_________________________________________________________________\n"
     ]
    }
   ],
   "source": [
    "# sparse autoencoder\n",
    "logfilename = \"SparseAutoencoder\"\n",
    "\n",
    "encoding_dim = 12\n",
    "input_dim = x_train.shape[1]\n",
    "\n",
    "inputArray = Input(shape=(input_dim,))\n",
    "encoded = Dense(encoding_dim, activation='relu',\n",
    "                activity_regularizer=regularizers.l1(10e-5))(inputArray)\n",
    "\n",
    "decoded = Dense(input_dim, activation='softmax')(encoded)\n",
    "\n",
    "autoencoder = Model(inputArray, decoded)\n",
    "autoencoder.summary()"
   ]
  },
  {
   "cell_type": "code",
   "execution_count": 7,
   "id": "41d96373",
   "metadata": {
    "ExecuteTime": {
     "end_time": "2021-10-04T07:46:28.123621Z",
     "start_time": "2021-10-04T07:46:28.109623Z"
    }
   },
   "outputs": [],
   "source": [
    "autoencoder.compile(optimizer=tf.keras.optimizers.RMSprop(),\n",
    "                    loss='mean_squared_error',\n",
    "                    metrics=['mae', 'accuracy'])"
   ]
  },
  {
   "cell_type": "code",
   "execution_count": 8,
   "id": "86a90ca4",
   "metadata": {
    "ExecuteTime": {
     "end_time": "2021-10-04T07:46:34.043544Z",
     "start_time": "2021-10-04T07:46:28.124622Z"
    }
   },
   "outputs": [
    {
     "name": "stdout",
     "output_type": "stream",
     "text": [
      "Epoch 1/20\n",
      "510/510 [==============================] - 1s 979us/step - loss: 1.5387 - mae: 0.6787 - accuracy: 0.2847 - val_loss: 1.3964 - val_mae: 0.6616 - val_accuracy: 0.3723\n",
      "Epoch 2/20\n",
      "510/510 [==============================] - 0s 514us/step - loss: 1.4883 - mae: 0.6611 - accuracy: 0.5003 - val_loss: 1.3655 - val_mae: 0.6529 - val_accuracy: 0.5853\n",
      "Epoch 3/20\n",
      "510/510 [==============================] - 0s 496us/step - loss: 1.4714 - mae: 0.6571 - accuracy: 0.6365 - val_loss: 1.3579 - val_mae: 0.6516 - val_accuracy: 0.6532\n",
      "Epoch 4/20\n",
      "510/510 [==============================] - 0s 514us/step - loss: 1.4665 - mae: 0.6564 - accuracy: 0.6843 - val_loss: 1.3551 - val_mae: 0.6511 - val_accuracy: 0.6909\n",
      "Epoch 5/20\n",
      "510/510 [==============================] - 0s 526us/step - loss: 1.4646 - mae: 0.6561 - accuracy: 0.7110 - val_loss: 1.3538 - val_mae: 0.6509 - val_accuracy: 0.7076\n",
      "Epoch 6/20\n",
      "510/510 [==============================] - 0s 522us/step - loss: 1.4634 - mae: 0.6559 - accuracy: 0.7263 - val_loss: 1.3529 - val_mae: 0.6508 - val_accuracy: 0.7196\n",
      "Epoch 7/20\n",
      "510/510 [==============================] - 0s 521us/step - loss: 1.4627 - mae: 0.6558 - accuracy: 0.7363 - val_loss: 1.3523 - val_mae: 0.6507 - val_accuracy: 0.7304\n",
      "Epoch 8/20\n",
      "510/510 [==============================] - 0s 544us/step - loss: 1.4622 - mae: 0.6557 - accuracy: 0.7446 - val_loss: 1.3518 - val_mae: 0.6506 - val_accuracy: 0.7348\n",
      "Epoch 9/20\n",
      "510/510 [==============================] - 0s 523us/step - loss: 1.4618 - mae: 0.6557 - accuracy: 0.7521 - val_loss: 1.3515 - val_mae: 0.6505 - val_accuracy: 0.7434\n",
      "Epoch 10/20\n",
      "510/510 [==============================] - 0s 515us/step - loss: 1.4616 - mae: 0.6556 - accuracy: 0.7575 - val_loss: 1.3513 - val_mae: 0.6505 - val_accuracy: 0.7451\n",
      "Epoch 11/20\n",
      "510/510 [==============================] - 0s 495us/step - loss: 1.4614 - mae: 0.6556 - accuracy: 0.7618 - val_loss: 1.3511 - val_mae: 0.6505 - val_accuracy: 0.7473\n",
      "Epoch 12/20\n",
      "510/510 [==============================] - 0s 494us/step - loss: 1.4612 - mae: 0.6556 - accuracy: 0.7642 - val_loss: 1.3509 - val_mae: 0.6504 - val_accuracy: 0.7515\n",
      "Epoch 13/20\n",
      "510/510 [==============================] - 0s 507us/step - loss: 1.4611 - mae: 0.6556 - accuracy: 0.7681 - val_loss: 1.3508 - val_mae: 0.6504 - val_accuracy: 0.7578\n",
      "Epoch 14/20\n",
      "510/510 [==============================] - 0s 512us/step - loss: 1.4609 - mae: 0.6556 - accuracy: 0.7710 - val_loss: 1.3506 - val_mae: 0.6504 - val_accuracy: 0.7588\n",
      "Epoch 15/20\n",
      "510/510 [==============================] - 0s 486us/step - loss: 1.4607 - mae: 0.6556 - accuracy: 0.7737 - val_loss: 1.3505 - val_mae: 0.6504 - val_accuracy: 0.7613\n",
      "Epoch 16/20\n",
      "510/510 [==============================] - 0s 494us/step - loss: 1.4607 - mae: 0.6556 - accuracy: 0.7762 - val_loss: 1.3505 - val_mae: 0.6504 - val_accuracy: 0.7623\n",
      "Epoch 17/20\n",
      "510/510 [==============================] - 0s 500us/step - loss: 1.4606 - mae: 0.6555 - accuracy: 0.7777 - val_loss: 1.3504 - val_mae: 0.6504 - val_accuracy: 0.7640\n",
      "Epoch 18/20\n",
      "510/510 [==============================] - 0s 521us/step - loss: 1.4605 - mae: 0.6555 - accuracy: 0.7776 - val_loss: 1.3503 - val_mae: 0.6504 - val_accuracy: 0.7632\n",
      "Epoch 19/20\n",
      "510/510 [==============================] - 0s 520us/step - loss: 1.4604 - mae: 0.6555 - accuracy: 0.7784 - val_loss: 1.3502 - val_mae: 0.6504 - val_accuracy: 0.7681\n",
      "Epoch 20/20\n",
      "510/510 [==============================] - 0s 502us/step - loss: 1.4604 - mae: 0.6555 - accuracy: 0.7795 - val_loss: 1.3502 - val_mae: 0.6504 - val_accuracy: 0.7679\n"
     ]
    }
   ],
   "source": [
    "batch_size = 32\n",
    "epochs = 20\n",
    "\n",
    "history = autoencoder.fit(\n",
    "    x_train,\n",
    "    x_train,\n",
    "    batch_size=batch_size,\n",
    "    epochs=epochs,\n",
    "    verbose=1,\n",
    "    shuffle=True,\n",
    "    validation_data=(x_test, x_test),\n",
    "    #     callbacks=[TensorBoard(log_dir='../logs/{0}'.format(logfilename))]\n",
    ")"
   ]
  },
  {
   "cell_type": "code",
   "execution_count": 9,
   "id": "7fc31581",
   "metadata": {
    "ExecuteTime": {
     "end_time": "2021-10-04T07:46:34.154161Z",
     "start_time": "2021-10-04T07:46:34.044534Z"
    }
   },
   "outputs": [
    {
     "name": "stdout",
     "output_type": "stream",
     "text": [
      "128/128 [==============================] - 0s 378us/step - loss: 1.3502 - mae: 0.6504 - accuracy: 0.7679\n",
      "Test loss: 1.3502254486083984\n",
      "Test accuracy: 0.6504010558128357\n"
     ]
    }
   ],
   "source": [
    "score = autoencoder.evaluate(x_test, x_test, verbose=1)\n",
    "print('Test loss:', score[0])\n",
    "print('Test accuracy:', score[1])"
   ]
  },
  {
   "cell_type": "code",
   "execution_count": 10,
   "id": "20f789d7",
   "metadata": {
    "ExecuteTime": {
     "end_time": "2021-10-04T07:46:34.280153Z",
     "start_time": "2021-10-04T07:46:34.155153Z"
    }
   },
   "outputs": [],
   "source": [
    "threshold = 10.00\n",
    "y_pred = autoencoder.predict(x_test)\n",
    "y_dist = np.linalg.norm(x_test - y_pred, axis=-1)\n",
    "z = zip(y_dist >= threshold, y_dist)\n",
    "y_label = []\n",
    "error = []\n",
    "for idx, (is_anomaly, y_dist) in enumerate(z):\n",
    "    if is_anomaly:\n",
    "        y_label.append(1)\n",
    "    else:\n",
    "        y_label.append(0)\n",
    "    error.append(y_dist)"
   ]
  },
  {
   "cell_type": "code",
   "execution_count": 11,
   "id": "f130cb75",
   "metadata": {
    "ExecuteTime": {
     "end_time": "2021-10-04T07:46:34.295161Z",
     "start_time": "2021-10-04T07:46:34.281153Z"
    }
   },
   "outputs": [
    {
     "name": "stdout",
     "output_type": "stream",
     "text": [
      "              precision    recall  f1-score   support\n",
      "\n",
      "           0       0.99      0.98      0.99      3987\n",
      "           1       0.44      0.74      0.55        93\n",
      "\n",
      "    accuracy                           0.97      4080\n",
      "   macro avg       0.72      0.86      0.77      4080\n",
      "weighted avg       0.98      0.97      0.98      4080\n",
      "\n"
     ]
    }
   ],
   "source": [
    "print(classification_report(y_test, y_label))"
   ]
  },
  {
   "cell_type": "code",
   "execution_count": 12,
   "id": "201219e2",
   "metadata": {
    "ExecuteTime": {
     "end_time": "2021-10-04T07:46:34.311273Z",
     "start_time": "2021-10-04T07:46:34.296153Z"
    }
   },
   "outputs": [
    {
     "data": {
      "text/plain": [
       "0.8599318753691433"
      ]
     },
     "execution_count": 12,
     "metadata": {},
     "output_type": "execute_result"
    }
   ],
   "source": [
    "roc_auc_score(y_test, y_label)"
   ]
  },
  {
   "cell_type": "code",
   "execution_count": 13,
   "id": "75521be1",
   "metadata": {
    "ExecuteTime": {
     "end_time": "2021-10-04T07:46:34.486851Z",
     "start_time": "2021-10-04T07:46:34.312248Z"
    }
   },
   "outputs": [
    {
     "data": {
      "image/png": "[encoded data removed]",
      "text/plain": [
       "<Figure size 720x576 with 2 Axes>"
      ]
     },
     "metadata": {
      "needs_background": "light"
     },
     "output_type": "display_data"
    }
   ],
   "source": [
    "viz = Visualization()\n",
    "\n",
    "viz.draw_confusion_matrix(y_test, y_label)"
   ]
  },
  {
   "cell_type": "code",
   "execution_count": 14,
   "id": "925254e4",
   "metadata": {
    "ExecuteTime": {
     "end_time": "2021-10-04T07:46:34.661393Z",
     "start_time": "2021-10-04T07:46:34.487843Z"
    }
   },
   "outputs": [
    {
     "data": {
      "image/png": "[encoded data removed]",
      "text/plain": [
       "<Figure size 864x576 with 1 Axes>"
      ]
     },
     "metadata": {
      "needs_background": "light"
     },
     "output_type": "display_data"
    }
   ],
   "source": [
    "viz.draw_anomaly(y_test, error, threshold)"
   ]
  }
 ],
 "metadata": {
  "kernelspec": {
   "display_name": "Python 3",
   "language": "python",
   "name": "python3"
  },
  "language_info": {
   "codemirror_mode": {
    "name": "ipython",
    "version": 3
   },
   "file_extension": ".py",
   "mimetype": "text/x-python",
   "name": "python",
   "nbconvert_exporter": "python",
   "pygments_lexer": "ipython3",
   "version": "3.8.10"
  },
  "toc": {
   "base_numbering": 1,
   "nav_menu": {},
   "number_sections": true,
   "sideBar": true,
   "skip_h1_title": false,
   "title_cell": "Table of Contents",
   "title_sidebar": "Contents",
   "toc_cell": false,
   "toc_position": {},
   "toc_section_display": true,
   "toc_window_display": false
  }
 },
 "nbformat": 4,
 "nbformat_minor": 5
}
