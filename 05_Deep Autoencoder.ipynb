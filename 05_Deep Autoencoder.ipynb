{
 "cells": [
  {
   "cell_type": "code",
   "execution_count": null,
   "id": "aa5f2036",
   "metadata": {
    "ExecuteTime": {
     "end_time": "2021-09-24T00:05:31.928963Z",
     "start_time": "2021-09-24T00:05:25.828555Z"
    }
   },
   "outputs": [],
   "source": [
    "import tensorflow as tf\n",
    "import sys\n",
    "from tensorflow.python import keras\n",
    "from tensorflow.python.keras import optimizers\n",
    "from tensorflow.python.keras import losses\n",
    "from tensorflow.python.keras.models import Sequential, Model\n",
    "from tensorflow.python.keras.layers import Dense, Input, Dropout, Embedding, LSTM\n",
    "# from tensorflow.python.keras.optimizers import RMSprop\n",
    "from tensorflow.python.keras.optimizers import adam_v2\n",
    "# from tensorflow.python.keras.optimizers import Nadam\n",
    "from tensorflow.python.keras.preprocessing import sequence\n",
    "from tensorflow.python.keras.callbacks import TensorBoard\n",
    "from tensorflow.python.keras import regularizers\n",
    "\n",
    "import sklearn\n",
    "from sklearn.preprocessing import StandardScaler\n",
    "from sklearn.model_selection import train_test_split\n",
    "from sklearn.metrics import confusion_matrix, roc_auc_score\n",
    "from sklearn.preprocessing import MinMaxScaler\n",
    "from sklearn.metrics import classification_report\n",
    "\n",
    "import seaborn as sns\n",
    "import pandas as pd\n",
    "import numpy as np\n",
    "import matplotlib\n",
    "\n",
    "import matplotlib.pyplot as plt\n",
    "import matplotlib.gridspec as gridspec\n",
    "%matplotlib inline\n",
    "\n",
    "print(\"Python: \", sys.version)\n",
    "\n",
    "print(\"pandas: \", pd.__version__)\n",
    "print(\"numpy: \", np.__version__)\n",
    "print(\"seaborn: \", sns.__version__)\n",
    "print(\"matplotlib: \", matplotlib.__version__)\n",
    "print(\"sklearn: \", sklearn.__version__)\n",
    "print(\"Keras: \", keras.__version__)\n",
    "print(\"Tensorflow: \", tf.__version__)"
   ]
  },
  {
   "cell_type": "code",
   "execution_count": null,
   "id": "58dbabf0",
   "metadata": {
    "ExecuteTime": {
     "end_time": "2021-09-24T00:05:38.175315Z",
     "start_time": "2021-09-24T00:05:38.165340Z"
    }
   },
   "outputs": [],
   "source": [
    "class Visualization:\n",
    "    labels = [\"Normal\", \"Anomaly\"]\n",
    "\n",
    "    def draw_confusion_matrix(self, y, ypred):\n",
    "        matrix = confusion_matrix(y, ypred)\n",
    "\n",
    "        plt.figure(figsize=(10, 8))\n",
    "        colors = [\"orange\", \"green\"]\n",
    "        sns.heatmap(matrix,\n",
    "                    xticklabels=self.labels,\n",
    "                    yticklabels=self.labels,\n",
    "                    cmap=colors,\n",
    "                    annot=True,\n",
    "                    fmt=\"d\")\n",
    "        plt.title(\"Confusion Matrix\")\n",
    "        plt.ylabel('Actual')\n",
    "        plt.xlabel('Predicted')\n",
    "        plt.show()\n",
    "\n",
    "    def draw_anomaly(self, y, error, threshold):\n",
    "        groupsDF = pd.DataFrame({'error': error, 'true': y}).groupby('true')\n",
    "\n",
    "        figure, axes = plt.subplots(figsize=(12, 8))\n",
    "\n",
    "        for name, group in groupsDF:\n",
    "            axes.plot(group.index,\n",
    "                      group.error,\n",
    "                      marker='x' if name == 1 else 'o',\n",
    "                      linestyle='',\n",
    "                      color='r' if name == 1 else 'g',\n",
    "                      label=\"Anomaly\" if name == 1 else \"Normal\")\n",
    "\n",
    "        axes.hlines(threshold,\n",
    "                    axes.get_xlim()[0],\n",
    "                    axes.get_xlim()[1],\n",
    "                    colors=\"b\",\n",
    "                    zorder=100,\n",
    "                    label='Threshold')\n",
    "        axes.legend()\n",
    "\n",
    "        plt.title(\"Anomalies\")\n",
    "        plt.ylabel(\"Error\")\n",
    "        plt.xlabel(\"Data\")\n",
    "        plt.show()\n",
    "\n",
    "    def draw_error(self, error, threshold):\n",
    "        plt.plot(error, marker='o', ms=3.5, linestyle='', label='Point')\n",
    "\n",
    "        plt.hlines(threshold,\n",
    "                   xmin=0,\n",
    "                   xmax=len(error) - 1,\n",
    "                   colors=\"b\",\n",
    "                   zorder=100,\n",
    "                   label='Threshold')\n",
    "        plt.legend()\n",
    "        plt.title(\"Reconstruction error\")\n",
    "        plt.ylabel(\"Error\")\n",
    "        plt.xlabel(\"Data\")\n",
    "        plt.show()"
   ]
  },
  {
   "cell_type": "code",
   "execution_count": null,
   "id": "fa6a1948",
   "metadata": {
    "ExecuteTime": {
     "end_time": "2021-09-24T00:06:51.819893Z",
     "start_time": "2021-09-24T00:06:49.886254Z"
    }
   },
   "outputs": [],
   "source": [
    "filePath = './datasets/CreditCard.csv'\n",
    "df = pd.read_csv(filepath_or_buffer=filePath, header=0, sep=',')\n",
    "print(df.shape[0])\n",
    "df.head()"
   ]
  },
  {
   "cell_type": "code",
   "execution_count": null,
   "id": "67ca4a75",
   "metadata": {
    "ExecuteTime": {
     "end_time": "2021-09-24T00:06:54.757602Z",
     "start_time": "2021-09-24T00:06:54.684796Z"
    }
   },
   "outputs": [],
   "source": [
    "df['Amount'] = StandardScaler().fit_transform(\n",
    "    df['Amount'].values.reshape(-1, 1))\n",
    "df0 = df.query('Class == 0').sample(20000)\n",
    "df1 = df.query('Class == 1').sample(400)\n",
    "df = pd.concat([df0, df1])"
   ]
  },
  {
   "cell_type": "code",
   "execution_count": null,
   "id": "5a98c8e0",
   "metadata": {
    "ExecuteTime": {
     "end_time": "2021-09-24T00:06:56.951331Z",
     "start_time": "2021-09-24T00:06:56.939362Z"
    }
   },
   "outputs": [],
   "source": [
    "x_train, x_test, y_train, y_test = train_test_split(df.drop(labels=['Time', 'Class'], axis=1),\n",
    "                                                    df['Class'], test_size=0.2, random_state=42)\n",
    "print(x_train.shape, 'train samples')\n",
    "print(x_test.shape, 'test samples')"
   ]
  },
  {
   "cell_type": "code",
   "execution_count": null,
   "id": "013932e4",
   "metadata": {
    "ExecuteTime": {
     "end_time": "2021-09-24T00:07:02.368201Z",
     "start_time": "2021-09-24T00:07:02.343268Z"
    }
   },
   "outputs": [],
   "source": [
    "# sparse autoencoder\n",
    "logfilename = \"SparseAutoencoder\"\n",
    "\n",
    "encoding_dim = 12\n",
    "input_dim = x_train.shape[1]\n",
    "\n",
    "inputArray = Input(shape=(input_dim,))\n",
    "encoded = Dense(encoding_dim, activation='relu',\n",
    "                activity_regularizer=regularizers.l1(10e-5))(inputArray)\n",
    "\n",
    "decoded = Dense(input_dim, activation='softmax')(encoded)\n",
    "\n",
    "autoencoder = Model(inputArray, decoded)\n",
    "autoencoder.summary()"
   ]
  },
  {
   "cell_type": "code",
   "execution_count": null,
   "id": "283333fa",
   "metadata": {
    "ExecuteTime": {
     "end_time": "2021-09-24T00:07:04.205899Z",
     "start_time": "2021-09-24T00:07:04.167003Z"
    }
   },
   "outputs": [],
   "source": [
    "# deep autoencoder\n",
    "logfilename = \"DeepAutoencoder\"\n",
    "\n",
    "encoding_dim = 16\n",
    "input_dim = x_train.shape[1]\n",
    "\n",
    "inputArray = Input(shape=(input_dim,))\n",
    "encoded = Dense(encoding_dim, activation='relu')(inputArray)\n",
    "encoded = Dense(8, activation='relu')(encoded)\n",
    "encoded = Dense(4, activation='relu')(encoded)\n",
    "\n",
    "decoded = Dense(8, activation='relu')(encoded)\n",
    "decoded = Dense(encoding_dim, activation='relu')(decoded)\n",
    "decoded = Dense(input_dim, activation='softmax')(decoded)\n",
    "\n",
    "autoencoder = Model(inputArray, decoded)\n",
    "autoencoder.summary()"
   ]
  },
  {
   "cell_type": "code",
   "execution_count": null,
   "id": "41d96373",
   "metadata": {
    "ExecuteTime": {
     "end_time": "2021-09-24T00:07:10.805177Z",
     "start_time": "2021-09-24T00:07:10.796188Z"
    }
   },
   "outputs": [],
   "source": [
    "autoencoder.compile(optimizer=tf.keras.optimizers.RMSprop(),\n",
    "                    loss='mean_squared_error',\n",
    "                    metrics=['mae', 'accuracy'])"
   ]
  },
  {
   "cell_type": "code",
   "execution_count": null,
   "id": "86a90ca4",
   "metadata": {},
   "outputs": [],
   "source": [
    "batch_size = 32\n",
    "epochs = 20\n",
    "\n",
    "history = autoencoder.fit(x_train,\n",
    "                          x_train,\n",
    "                          batch_size=batch_size,\n",
    "                          epochs=epochs,\n",
    "                          verbose=1,\n",
    "                          shuffle=True,\n",
    "                          validation_data=(x_test, x_test))"
   ]
  },
  {
   "cell_type": "code",
   "execution_count": null,
   "id": "7fc31581",
   "metadata": {},
   "outputs": [],
   "source": [
    "score = autoencoder.evaluate(x_test, x_test, verbose=1)\n",
    "print('Test loss:', score[0])\n",
    "print('Test accuracy:', score[1])"
   ]
  },
  {
   "cell_type": "code",
   "execution_count": null,
   "id": "20f789d7",
   "metadata": {},
   "outputs": [],
   "source": [
    "threshold = 15.00\n",
    "y_pred = autoencoder.predict(x_test)\n",
    "y_dist = np.linalg.norm(x_test - y_pred, axis=-1)\n",
    "z = zip(y_dist >= threshold, y_dist)\n",
    "y_label = []\n",
    "error = []\n",
    "for idx, (is_anomaly, y_dist) in enumerate(z):\n",
    "    if is_anomaly:\n",
    "        y_label.append(1)\n",
    "    else:\n",
    "        y_label.append(0)\n",
    "    error.append(y_dist)"
   ]
  }
 ],
 "metadata": {
  "kernelspec": {
   "display_name": "Python 3",
   "language": "python",
   "name": "python3"
  },
  "language_info": {
   "codemirror_mode": {
    "name": "ipython",
    "version": 3
   },
   "file_extension": ".py",
   "mimetype": "text/x-python",
   "name": "python",
   "nbconvert_exporter": "python",
   "pygments_lexer": "ipython3",
   "version": "3.8.10"
  },
  "toc": {
   "base_numbering": 1,
   "nav_menu": {},
   "number_sections": true,
   "sideBar": true,
   "skip_h1_title": false,
   "title_cell": "Table of Contents",
   "title_sidebar": "Contents",
   "toc_cell": false,
   "toc_position": {},
   "toc_section_display": true,
   "toc_window_display": false
  }
 },
 "nbformat": 4,
 "nbformat_minor": 5
}
