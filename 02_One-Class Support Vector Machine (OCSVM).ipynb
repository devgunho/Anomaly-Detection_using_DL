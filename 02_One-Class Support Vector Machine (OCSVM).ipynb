{
 "cells": [
  {
   "cell_type": "code",
   "execution_count": 1,
   "id": "2af49d9c",
   "metadata": {
    "ExecuteTime": {
     "end_time": "2021-09-22T14:32:00.257533Z",
     "start_time": "2021-09-22T14:31:58.398539Z"
    }
   },
   "outputs": [],
   "source": [
    "import numpy as np\n",
    "import pandas as pd\n",
    "import matplotlib.pyplot as plt\n",
    "from sklearn.ensemble import IsolationForest\n",
    "from sklearn.model_selection import train_test_split\n",
    "from sklearn.preprocessing import LabelEncoder\n",
    "from sklearn.svm import OneClassSVM\n",
    "\n",
    "%matplotlib inline"
   ]
  },
  {
   "cell_type": "code",
   "execution_count": 2,
   "id": "801c9862",
   "metadata": {
    "ExecuteTime": {
     "end_time": "2021-09-22T14:32:08.633771Z",
     "start_time": "2021-09-22T14:32:00.258527Z"
    }
   },
   "outputs": [],
   "source": [
    "columns = [\n",
    "    \"duration\", \"protocol_type\", \"service\", \"flag\", \"src_bytes\", \"dst_bytes\",\n",
    "    \"land\", \"wrong_fragment\", \"urgent\", \"hot\", \"num_failed_logins\",\n",
    "    \"logged_in\", \"num_compromised\", \"root_shell\", \"su_attempted\", \"num_root\",\n",
    "    \"num_file_creations\", \"num_shells\", \"num_access_files\",\n",
    "    \"num_outbound_cmds\", \"is_host_login\", \"is_guest_login\", \"count\",\n",
    "    \"srv_count\", \"serror_rate\", \"srv_serror_rate\", \"rerror_rate\",\n",
    "    \"srv_rerror_rate\", \"same_srv_rate\", \"diff_srv_rate\", \"srv_diff_host_rate\",\n",
    "    \"dst_host_count\", \"dst_host_srv_count\", \"dst_host_same_srv_rate\",\n",
    "    \"dst_host_diff_srv_rate\", \"dst_host_same_src_port_rate\",\n",
    "    \"dst_host_srv_diff_host_rate\", \"dst_host_serror_rate\",\n",
    "    \"dst_host_srv_serror_rate\", \"dst_host_rerror_rate\",\n",
    "    \"dst_host_srv_rerror_rate\", \"label\"\n",
    "]\n",
    "\n",
    "df = pd.read_csv(\"datasets/kddcup.data.corrected\",\n",
    "                 sep=\",\",\n",
    "                 names=columns,\n",
    "                 index_col=None)"
   ]
  },
  {
   "cell_type": "code",
   "execution_count": 3,
   "id": "46788cae",
   "metadata": {
    "ExecuteTime": {
     "end_time": "2021-09-22T14:32:08.649318Z",
     "start_time": "2021-09-22T14:32:08.634770Z"
    }
   },
   "outputs": [
    {
     "data": {
      "text/plain": [
       "(4898431, 42)"
      ]
     },
     "execution_count": 3,
     "metadata": {},
     "output_type": "execute_result"
    }
   ],
   "source": [
    "df.shape"
   ]
  },
  {
   "cell_type": "code",
   "execution_count": 4,
   "id": "61d5e9da",
   "metadata": {
    "ExecuteTime": {
     "end_time": "2021-09-22T14:32:09.193045Z",
     "start_time": "2021-09-22T14:32:08.650317Z"
    }
   },
   "outputs": [],
   "source": [
    "df = df[df[\"service\"] == \"http\"]\n",
    "df = df.drop(\"service\", axis=1)\n",
    "columns.remove(\"service\")\n",
    "\n",
    "novelties = df[df[\"label\"] != \"normal.\"]\n",
    "novelties_normal = df[150000:154045]\n",
    "\n",
    "novelties = pd.concat([novelties, novelties_normal])\n",
    "normal = df[df[\"label\"] == \"normal.\"]"
   ]
  },
  {
   "cell_type": "code",
   "execution_count": 5,
   "id": "bd396b95",
   "metadata": {
    "ExecuteTime": {
     "end_time": "2021-09-22T14:32:09.209003Z",
     "start_time": "2021-09-22T14:32:09.194068Z"
    }
   },
   "outputs": [
    {
     "name": "stdout",
     "output_type": "stream",
     "text": [
      "(8090, 41)\n",
      "(619046, 41)\n"
     ]
    }
   ],
   "source": [
    "print(novelties.shape)\n",
    "print(normal.shape)"
   ]
  },
  {
   "cell_type": "code",
   "execution_count": 6,
   "id": "e76d9e82",
   "metadata": {
    "ExecuteTime": {
     "end_time": "2021-09-22T14:32:09.241005Z",
     "start_time": "2021-09-22T14:32:09.210001Z"
    }
   },
   "outputs": [
    {
     "data": {
      "text/html": [
       "<div>\n",
       "<style scoped>\n",
       "    .dataframe tbody tr th:only-of-type {\n",
       "        vertical-align: middle;\n",
       "    }\n",
       "\n",
       "    .dataframe tbody tr th {\n",
       "        vertical-align: top;\n",
       "    }\n",
       "\n",
       "    .dataframe thead th {\n",
       "        text-align: right;\n",
       "    }\n",
       "</style>\n",
       "<table border=\"1\" class=\"dataframe\">\n",
       "  <thead>\n",
       "    <tr style=\"text-align: right;\">\n",
       "      <th></th>\n",
       "      <th>duration</th>\n",
       "      <th>protocol_type</th>\n",
       "      <th>flag</th>\n",
       "      <th>src_bytes</th>\n",
       "      <th>dst_bytes</th>\n",
       "      <th>land</th>\n",
       "      <th>wrong_fragment</th>\n",
       "      <th>urgent</th>\n",
       "      <th>hot</th>\n",
       "      <th>num_failed_logins</th>\n",
       "      <th>...</th>\n",
       "      <th>dst_host_srv_count</th>\n",
       "      <th>dst_host_same_srv_rate</th>\n",
       "      <th>dst_host_diff_srv_rate</th>\n",
       "      <th>dst_host_same_src_port_rate</th>\n",
       "      <th>dst_host_srv_diff_host_rate</th>\n",
       "      <th>dst_host_serror_rate</th>\n",
       "      <th>dst_host_srv_serror_rate</th>\n",
       "      <th>dst_host_rerror_rate</th>\n",
       "      <th>dst_host_srv_rerror_rate</th>\n",
       "      <th>label</th>\n",
       "    </tr>\n",
       "  </thead>\n",
       "  <tbody>\n",
       "    <tr>\n",
       "      <th>226685</th>\n",
       "      <td>0</td>\n",
       "      <td>tcp</td>\n",
       "      <td>S0</td>\n",
       "      <td>0</td>\n",
       "      <td>0</td>\n",
       "      <td>0</td>\n",
       "      <td>0</td>\n",
       "      <td>0</td>\n",
       "      <td>0</td>\n",
       "      <td>0</td>\n",
       "      <td>...</td>\n",
       "      <td>1</td>\n",
       "      <td>0.00</td>\n",
       "      <td>0.31</td>\n",
       "      <td>0.53</td>\n",
       "      <td>0.00</td>\n",
       "      <td>0.01</td>\n",
       "      <td>1.00</td>\n",
       "      <td>0.52</td>\n",
       "      <td>0.00</td>\n",
       "      <td>portsweep.</td>\n",
       "    </tr>\n",
       "    <tr>\n",
       "      <th>226686</th>\n",
       "      <td>0</td>\n",
       "      <td>tcp</td>\n",
       "      <td>S0</td>\n",
       "      <td>0</td>\n",
       "      <td>0</td>\n",
       "      <td>0</td>\n",
       "      <td>0</td>\n",
       "      <td>0</td>\n",
       "      <td>0</td>\n",
       "      <td>0</td>\n",
       "      <td>...</td>\n",
       "      <td>2</td>\n",
       "      <td>0.01</td>\n",
       "      <td>0.31</td>\n",
       "      <td>0.53</td>\n",
       "      <td>0.00</td>\n",
       "      <td>0.02</td>\n",
       "      <td>1.00</td>\n",
       "      <td>0.52</td>\n",
       "      <td>0.00</td>\n",
       "      <td>portsweep.</td>\n",
       "    </tr>\n",
       "    <tr>\n",
       "      <th>226687</th>\n",
       "      <td>1</td>\n",
       "      <td>tcp</td>\n",
       "      <td>RSTOS0</td>\n",
       "      <td>1</td>\n",
       "      <td>0</td>\n",
       "      <td>0</td>\n",
       "      <td>0</td>\n",
       "      <td>0</td>\n",
       "      <td>0</td>\n",
       "      <td>0</td>\n",
       "      <td>...</td>\n",
       "      <td>3</td>\n",
       "      <td>0.01</td>\n",
       "      <td>0.31</td>\n",
       "      <td>0.53</td>\n",
       "      <td>0.00</td>\n",
       "      <td>0.02</td>\n",
       "      <td>0.67</td>\n",
       "      <td>0.52</td>\n",
       "      <td>0.33</td>\n",
       "      <td>portsweep.</td>\n",
       "    </tr>\n",
       "    <tr>\n",
       "      <th>263531</th>\n",
       "      <td>0</td>\n",
       "      <td>tcp</td>\n",
       "      <td>REJ</td>\n",
       "      <td>0</td>\n",
       "      <td>0</td>\n",
       "      <td>0</td>\n",
       "      <td>0</td>\n",
       "      <td>0</td>\n",
       "      <td>0</td>\n",
       "      <td>0</td>\n",
       "      <td>...</td>\n",
       "      <td>194</td>\n",
       "      <td>0.02</td>\n",
       "      <td>1.00</td>\n",
       "      <td>0.02</td>\n",
       "      <td>0.04</td>\n",
       "      <td>0.00</td>\n",
       "      <td>0.00</td>\n",
       "      <td>0.93</td>\n",
       "      <td>0.01</td>\n",
       "      <td>ipsweep.</td>\n",
       "    </tr>\n",
       "    <tr>\n",
       "      <th>263734</th>\n",
       "      <td>0</td>\n",
       "      <td>tcp</td>\n",
       "      <td>REJ</td>\n",
       "      <td>0</td>\n",
       "      <td>0</td>\n",
       "      <td>0</td>\n",
       "      <td>0</td>\n",
       "      <td>0</td>\n",
       "      <td>0</td>\n",
       "      <td>0</td>\n",
       "      <td>...</td>\n",
       "      <td>2</td>\n",
       "      <td>0.02</td>\n",
       "      <td>1.00</td>\n",
       "      <td>0.02</td>\n",
       "      <td>1.00</td>\n",
       "      <td>0.00</td>\n",
       "      <td>0.00</td>\n",
       "      <td>0.92</td>\n",
       "      <td>1.00</td>\n",
       "      <td>ipsweep.</td>\n",
       "    </tr>\n",
       "  </tbody>\n",
       "</table>\n",
       "<p>5 rows × 41 columns</p>\n",
       "</div>"
      ],
      "text/plain": [
       "        duration protocol_type    flag  src_bytes  dst_bytes  land  \\\n",
       "226685         0           tcp      S0          0          0     0   \n",
       "226686         0           tcp      S0          0          0     0   \n",
       "226687         1           tcp  RSTOS0          1          0     0   \n",
       "263531         0           tcp     REJ          0          0     0   \n",
       "263734         0           tcp     REJ          0          0     0   \n",
       "\n",
       "        wrong_fragment  urgent  hot  num_failed_logins  ...  \\\n",
       "226685               0       0    0                  0  ...   \n",
       "226686               0       0    0                  0  ...   \n",
       "226687               0       0    0                  0  ...   \n",
       "263531               0       0    0                  0  ...   \n",
       "263734               0       0    0                  0  ...   \n",
       "\n",
       "        dst_host_srv_count  dst_host_same_srv_rate  dst_host_diff_srv_rate  \\\n",
       "226685                   1                    0.00                    0.31   \n",
       "226686                   2                    0.01                    0.31   \n",
       "226687                   3                    0.01                    0.31   \n",
       "263531                 194                    0.02                    1.00   \n",
       "263734                   2                    0.02                    1.00   \n",
       "\n",
       "        dst_host_same_src_port_rate  dst_host_srv_diff_host_rate  \\\n",
       "226685                         0.53                         0.00   \n",
       "226686                         0.53                         0.00   \n",
       "226687                         0.53                         0.00   \n",
       "263531                         0.02                         0.04   \n",
       "263734                         0.02                         1.00   \n",
       "\n",
       "        dst_host_serror_rate  dst_host_srv_serror_rate  dst_host_rerror_rate  \\\n",
       "226685                  0.01                      1.00                  0.52   \n",
       "226686                  0.02                      1.00                  0.52   \n",
       "226687                  0.02                      0.67                  0.52   \n",
       "263531                  0.00                      0.00                  0.93   \n",
       "263734                  0.00                      0.00                  0.92   \n",
       "\n",
       "        dst_host_srv_rerror_rate       label  \n",
       "226685                      0.00  portsweep.  \n",
       "226686                      0.00  portsweep.  \n",
       "226687                      0.33  portsweep.  \n",
       "263531                      0.01    ipsweep.  \n",
       "263734                      1.00    ipsweep.  \n",
       "\n",
       "[5 rows x 41 columns]"
      ]
     },
     "execution_count": 6,
     "metadata": {},
     "output_type": "execute_result"
    }
   ],
   "source": [
    "novelties.head(5)"
   ]
  },
  {
   "cell_type": "code",
   "execution_count": 7,
   "id": "49bd6611",
   "metadata": {
    "ExecuteTime": {
     "end_time": "2021-09-22T14:32:09.272924Z",
     "start_time": "2021-09-22T14:32:09.242999Z"
    }
   },
   "outputs": [
    {
     "data": {
      "text/html": [
       "<div>\n",
       "<style scoped>\n",
       "    .dataframe tbody tr th:only-of-type {\n",
       "        vertical-align: middle;\n",
       "    }\n",
       "\n",
       "    .dataframe tbody tr th {\n",
       "        vertical-align: top;\n",
       "    }\n",
       "\n",
       "    .dataframe thead th {\n",
       "        text-align: right;\n",
       "    }\n",
       "</style>\n",
       "<table border=\"1\" class=\"dataframe\">\n",
       "  <thead>\n",
       "    <tr style=\"text-align: right;\">\n",
       "      <th></th>\n",
       "      <th>duration</th>\n",
       "      <th>protocol_type</th>\n",
       "      <th>flag</th>\n",
       "      <th>src_bytes</th>\n",
       "      <th>dst_bytes</th>\n",
       "      <th>land</th>\n",
       "      <th>wrong_fragment</th>\n",
       "      <th>urgent</th>\n",
       "      <th>hot</th>\n",
       "      <th>num_failed_logins</th>\n",
       "      <th>...</th>\n",
       "      <th>dst_host_srv_count</th>\n",
       "      <th>dst_host_same_srv_rate</th>\n",
       "      <th>dst_host_diff_srv_rate</th>\n",
       "      <th>dst_host_same_src_port_rate</th>\n",
       "      <th>dst_host_srv_diff_host_rate</th>\n",
       "      <th>dst_host_serror_rate</th>\n",
       "      <th>dst_host_srv_serror_rate</th>\n",
       "      <th>dst_host_rerror_rate</th>\n",
       "      <th>dst_host_srv_rerror_rate</th>\n",
       "      <th>label</th>\n",
       "    </tr>\n",
       "  </thead>\n",
       "  <tbody>\n",
       "    <tr>\n",
       "      <th>209742</th>\n",
       "      <td>0</td>\n",
       "      <td>tcp</td>\n",
       "      <td>SF</td>\n",
       "      <td>216</td>\n",
       "      <td>2431</td>\n",
       "      <td>0</td>\n",
       "      <td>0</td>\n",
       "      <td>0</td>\n",
       "      <td>0</td>\n",
       "      <td>0</td>\n",
       "      <td>...</td>\n",
       "      <td>255</td>\n",
       "      <td>1.0</td>\n",
       "      <td>0.0</td>\n",
       "      <td>0.01</td>\n",
       "      <td>0.01</td>\n",
       "      <td>0.0</td>\n",
       "      <td>0.0</td>\n",
       "      <td>0.0</td>\n",
       "      <td>0.0</td>\n",
       "      <td>normal.</td>\n",
       "    </tr>\n",
       "    <tr>\n",
       "      <th>209743</th>\n",
       "      <td>0</td>\n",
       "      <td>tcp</td>\n",
       "      <td>SF</td>\n",
       "      <td>218</td>\n",
       "      <td>8746</td>\n",
       "      <td>0</td>\n",
       "      <td>0</td>\n",
       "      <td>0</td>\n",
       "      <td>0</td>\n",
       "      <td>0</td>\n",
       "      <td>...</td>\n",
       "      <td>255</td>\n",
       "      <td>1.0</td>\n",
       "      <td>0.0</td>\n",
       "      <td>0.01</td>\n",
       "      <td>0.01</td>\n",
       "      <td>0.0</td>\n",
       "      <td>0.0</td>\n",
       "      <td>0.0</td>\n",
       "      <td>0.0</td>\n",
       "      <td>normal.</td>\n",
       "    </tr>\n",
       "    <tr>\n",
       "      <th>209744</th>\n",
       "      <td>0</td>\n",
       "      <td>tcp</td>\n",
       "      <td>SF</td>\n",
       "      <td>144</td>\n",
       "      <td>9534</td>\n",
       "      <td>0</td>\n",
       "      <td>0</td>\n",
       "      <td>0</td>\n",
       "      <td>0</td>\n",
       "      <td>0</td>\n",
       "      <td>...</td>\n",
       "      <td>255</td>\n",
       "      <td>1.0</td>\n",
       "      <td>0.0</td>\n",
       "      <td>0.01</td>\n",
       "      <td>0.01</td>\n",
       "      <td>0.0</td>\n",
       "      <td>0.0</td>\n",
       "      <td>0.0</td>\n",
       "      <td>0.0</td>\n",
       "      <td>normal.</td>\n",
       "    </tr>\n",
       "    <tr>\n",
       "      <th>209745</th>\n",
       "      <td>0</td>\n",
       "      <td>tcp</td>\n",
       "      <td>SF</td>\n",
       "      <td>244</td>\n",
       "      <td>250</td>\n",
       "      <td>0</td>\n",
       "      <td>0</td>\n",
       "      <td>0</td>\n",
       "      <td>0</td>\n",
       "      <td>0</td>\n",
       "      <td>...</td>\n",
       "      <td>255</td>\n",
       "      <td>1.0</td>\n",
       "      <td>0.0</td>\n",
       "      <td>0.01</td>\n",
       "      <td>0.01</td>\n",
       "      <td>0.0</td>\n",
       "      <td>0.0</td>\n",
       "      <td>0.0</td>\n",
       "      <td>0.0</td>\n",
       "      <td>normal.</td>\n",
       "    </tr>\n",
       "    <tr>\n",
       "      <th>209746</th>\n",
       "      <td>0</td>\n",
       "      <td>tcp</td>\n",
       "      <td>SF</td>\n",
       "      <td>205</td>\n",
       "      <td>12625</td>\n",
       "      <td>0</td>\n",
       "      <td>0</td>\n",
       "      <td>0</td>\n",
       "      <td>0</td>\n",
       "      <td>0</td>\n",
       "      <td>...</td>\n",
       "      <td>255</td>\n",
       "      <td>1.0</td>\n",
       "      <td>0.0</td>\n",
       "      <td>0.01</td>\n",
       "      <td>0.01</td>\n",
       "      <td>0.0</td>\n",
       "      <td>0.0</td>\n",
       "      <td>0.0</td>\n",
       "      <td>0.0</td>\n",
       "      <td>normal.</td>\n",
       "    </tr>\n",
       "  </tbody>\n",
       "</table>\n",
       "<p>5 rows × 41 columns</p>\n",
       "</div>"
      ],
      "text/plain": [
       "        duration protocol_type flag  src_bytes  dst_bytes  land  \\\n",
       "209742         0           tcp   SF        216       2431     0   \n",
       "209743         0           tcp   SF        218       8746     0   \n",
       "209744         0           tcp   SF        144       9534     0   \n",
       "209745         0           tcp   SF        244        250     0   \n",
       "209746         0           tcp   SF        205      12625     0   \n",
       "\n",
       "        wrong_fragment  urgent  hot  num_failed_logins  ...  \\\n",
       "209742               0       0    0                  0  ...   \n",
       "209743               0       0    0                  0  ...   \n",
       "209744               0       0    0                  0  ...   \n",
       "209745               0       0    0                  0  ...   \n",
       "209746               0       0    0                  0  ...   \n",
       "\n",
       "        dst_host_srv_count  dst_host_same_srv_rate  dst_host_diff_srv_rate  \\\n",
       "209742                 255                     1.0                     0.0   \n",
       "209743                 255                     1.0                     0.0   \n",
       "209744                 255                     1.0                     0.0   \n",
       "209745                 255                     1.0                     0.0   \n",
       "209746                 255                     1.0                     0.0   \n",
       "\n",
       "        dst_host_same_src_port_rate  dst_host_srv_diff_host_rate  \\\n",
       "209742                         0.01                         0.01   \n",
       "209743                         0.01                         0.01   \n",
       "209744                         0.01                         0.01   \n",
       "209745                         0.01                         0.01   \n",
       "209746                         0.01                         0.01   \n",
       "\n",
       "        dst_host_serror_rate  dst_host_srv_serror_rate  dst_host_rerror_rate  \\\n",
       "209742                   0.0                       0.0                   0.0   \n",
       "209743                   0.0                       0.0                   0.0   \n",
       "209744                   0.0                       0.0                   0.0   \n",
       "209745                   0.0                       0.0                   0.0   \n",
       "209746                   0.0                       0.0                   0.0   \n",
       "\n",
       "        dst_host_srv_rerror_rate    label  \n",
       "209742                       0.0  normal.  \n",
       "209743                       0.0  normal.  \n",
       "209744                       0.0  normal.  \n",
       "209745                       0.0  normal.  \n",
       "209746                       0.0  normal.  \n",
       "\n",
       "[5 rows x 41 columns]"
      ]
     },
     "execution_count": 7,
     "metadata": {},
     "output_type": "execute_result"
    }
   ],
   "source": [
    "novelties.tail(5)"
   ]
  },
  {
   "cell_type": "code",
   "execution_count": 8,
   "id": "74b09fb4",
   "metadata": {
    "ExecuteTime": {
     "end_time": "2021-09-22T14:32:09.540718Z",
     "start_time": "2021-09-22T14:32:09.273921Z"
    }
   },
   "outputs": [
    {
     "name": "stderr",
     "output_type": "stream",
     "text": [
      "<ipython-input-8-066313bbc580>:5: SettingWithCopyWarning: \n",
      "A value is trying to be set on a copy of a slice from a DataFrame.\n",
      "Try using .loc[row_indexer,col_indexer] = value instead\n",
      "\n",
      "See the caveats in the documentation: https://pandas.pydata.org/pandas-docs/stable/user_guide/indexing.html#returning-a-view-versus-a-copy\n",
      "  normal[col] = encoded.transform(normal[col])\n"
     ]
    }
   ],
   "source": [
    "for col in normal.columns:\n",
    "    if normal[col].dtype == \"object\":\n",
    "        encoded = LabelEncoder()\n",
    "        encoded.fit(normal[col])\n",
    "        normal[col] = encoded.transform(normal[col])\n",
    "\n",
    "for col in novelties.columns:\n",
    "    if novelties[col].dtype == \"object\":\n",
    "        encoded2 = LabelEncoder()\n",
    "        encoded2.fit(novelties[col])\n",
    "        novelties[col] = encoded2.transform(novelties[col])"
   ]
  },
  {
   "cell_type": "code",
   "execution_count": 9,
   "id": "1d6ba3c1",
   "metadata": {
    "ExecuteTime": {
     "end_time": "2021-09-22T14:32:09.571657Z",
     "start_time": "2021-09-22T14:32:09.541717Z"
    }
   },
   "outputs": [
    {
     "data": {
      "text/html": [
       "<div>\n",
       "<style scoped>\n",
       "    .dataframe tbody tr th:only-of-type {\n",
       "        vertical-align: middle;\n",
       "    }\n",
       "\n",
       "    .dataframe tbody tr th {\n",
       "        vertical-align: top;\n",
       "    }\n",
       "\n",
       "    .dataframe thead th {\n",
       "        text-align: right;\n",
       "    }\n",
       "</style>\n",
       "<table border=\"1\" class=\"dataframe\">\n",
       "  <thead>\n",
       "    <tr style=\"text-align: right;\">\n",
       "      <th></th>\n",
       "      <th>duration</th>\n",
       "      <th>protocol_type</th>\n",
       "      <th>flag</th>\n",
       "      <th>src_bytes</th>\n",
       "      <th>dst_bytes</th>\n",
       "      <th>land</th>\n",
       "      <th>wrong_fragment</th>\n",
       "      <th>urgent</th>\n",
       "      <th>hot</th>\n",
       "      <th>num_failed_logins</th>\n",
       "      <th>...</th>\n",
       "      <th>dst_host_srv_count</th>\n",
       "      <th>dst_host_same_srv_rate</th>\n",
       "      <th>dst_host_diff_srv_rate</th>\n",
       "      <th>dst_host_same_src_port_rate</th>\n",
       "      <th>dst_host_srv_diff_host_rate</th>\n",
       "      <th>dst_host_serror_rate</th>\n",
       "      <th>dst_host_srv_serror_rate</th>\n",
       "      <th>dst_host_rerror_rate</th>\n",
       "      <th>dst_host_srv_rerror_rate</th>\n",
       "      <th>label</th>\n",
       "    </tr>\n",
       "  </thead>\n",
       "  <tbody>\n",
       "    <tr>\n",
       "      <th>226685</th>\n",
       "      <td>0</td>\n",
       "      <td>0</td>\n",
       "      <td>3</td>\n",
       "      <td>0</td>\n",
       "      <td>0</td>\n",
       "      <td>0</td>\n",
       "      <td>0</td>\n",
       "      <td>0</td>\n",
       "      <td>0</td>\n",
       "      <td>0</td>\n",
       "      <td>...</td>\n",
       "      <td>1</td>\n",
       "      <td>0.00</td>\n",
       "      <td>0.31</td>\n",
       "      <td>0.53</td>\n",
       "      <td>0.00</td>\n",
       "      <td>0.01</td>\n",
       "      <td>1.00</td>\n",
       "      <td>0.52</td>\n",
       "      <td>0.00</td>\n",
       "      <td>6</td>\n",
       "    </tr>\n",
       "    <tr>\n",
       "      <th>226686</th>\n",
       "      <td>0</td>\n",
       "      <td>0</td>\n",
       "      <td>3</td>\n",
       "      <td>0</td>\n",
       "      <td>0</td>\n",
       "      <td>0</td>\n",
       "      <td>0</td>\n",
       "      <td>0</td>\n",
       "      <td>0</td>\n",
       "      <td>0</td>\n",
       "      <td>...</td>\n",
       "      <td>2</td>\n",
       "      <td>0.01</td>\n",
       "      <td>0.31</td>\n",
       "      <td>0.53</td>\n",
       "      <td>0.00</td>\n",
       "      <td>0.02</td>\n",
       "      <td>1.00</td>\n",
       "      <td>0.52</td>\n",
       "      <td>0.00</td>\n",
       "      <td>6</td>\n",
       "    </tr>\n",
       "    <tr>\n",
       "      <th>226687</th>\n",
       "      <td>1</td>\n",
       "      <td>0</td>\n",
       "      <td>1</td>\n",
       "      <td>1</td>\n",
       "      <td>0</td>\n",
       "      <td>0</td>\n",
       "      <td>0</td>\n",
       "      <td>0</td>\n",
       "      <td>0</td>\n",
       "      <td>0</td>\n",
       "      <td>...</td>\n",
       "      <td>3</td>\n",
       "      <td>0.01</td>\n",
       "      <td>0.31</td>\n",
       "      <td>0.53</td>\n",
       "      <td>0.00</td>\n",
       "      <td>0.02</td>\n",
       "      <td>0.67</td>\n",
       "      <td>0.52</td>\n",
       "      <td>0.33</td>\n",
       "      <td>6</td>\n",
       "    </tr>\n",
       "    <tr>\n",
       "      <th>263531</th>\n",
       "      <td>0</td>\n",
       "      <td>0</td>\n",
       "      <td>0</td>\n",
       "      <td>0</td>\n",
       "      <td>0</td>\n",
       "      <td>0</td>\n",
       "      <td>0</td>\n",
       "      <td>0</td>\n",
       "      <td>0</td>\n",
       "      <td>0</td>\n",
       "      <td>...</td>\n",
       "      <td>194</td>\n",
       "      <td>0.02</td>\n",
       "      <td>1.00</td>\n",
       "      <td>0.02</td>\n",
       "      <td>0.04</td>\n",
       "      <td>0.00</td>\n",
       "      <td>0.00</td>\n",
       "      <td>0.93</td>\n",
       "      <td>0.01</td>\n",
       "      <td>1</td>\n",
       "    </tr>\n",
       "    <tr>\n",
       "      <th>263734</th>\n",
       "      <td>0</td>\n",
       "      <td>0</td>\n",
       "      <td>0</td>\n",
       "      <td>0</td>\n",
       "      <td>0</td>\n",
       "      <td>0</td>\n",
       "      <td>0</td>\n",
       "      <td>0</td>\n",
       "      <td>0</td>\n",
       "      <td>0</td>\n",
       "      <td>...</td>\n",
       "      <td>2</td>\n",
       "      <td>0.02</td>\n",
       "      <td>1.00</td>\n",
       "      <td>0.02</td>\n",
       "      <td>1.00</td>\n",
       "      <td>0.00</td>\n",
       "      <td>0.00</td>\n",
       "      <td>0.92</td>\n",
       "      <td>1.00</td>\n",
       "      <td>1</td>\n",
       "    </tr>\n",
       "  </tbody>\n",
       "</table>\n",
       "<p>5 rows × 41 columns</p>\n",
       "</div>"
      ],
      "text/plain": [
       "        duration  protocol_type  flag  src_bytes  dst_bytes  land  \\\n",
       "226685         0              0     3          0          0     0   \n",
       "226686         0              0     3          0          0     0   \n",
       "226687         1              0     1          1          0     0   \n",
       "263531         0              0     0          0          0     0   \n",
       "263734         0              0     0          0          0     0   \n",
       "\n",
       "        wrong_fragment  urgent  hot  num_failed_logins  ...  \\\n",
       "226685               0       0    0                  0  ...   \n",
       "226686               0       0    0                  0  ...   \n",
       "226687               0       0    0                  0  ...   \n",
       "263531               0       0    0                  0  ...   \n",
       "263734               0       0    0                  0  ...   \n",
       "\n",
       "        dst_host_srv_count  dst_host_same_srv_rate  dst_host_diff_srv_rate  \\\n",
       "226685                   1                    0.00                    0.31   \n",
       "226686                   2                    0.01                    0.31   \n",
       "226687                   3                    0.01                    0.31   \n",
       "263531                 194                    0.02                    1.00   \n",
       "263734                   2                    0.02                    1.00   \n",
       "\n",
       "        dst_host_same_src_port_rate  dst_host_srv_diff_host_rate  \\\n",
       "226685                         0.53                         0.00   \n",
       "226686                         0.53                         0.00   \n",
       "226687                         0.53                         0.00   \n",
       "263531                         0.02                         0.04   \n",
       "263734                         0.02                         1.00   \n",
       "\n",
       "        dst_host_serror_rate  dst_host_srv_serror_rate  dst_host_rerror_rate  \\\n",
       "226685                  0.01                      1.00                  0.52   \n",
       "226686                  0.02                      1.00                  0.52   \n",
       "226687                  0.02                      0.67                  0.52   \n",
       "263531                  0.00                      0.00                  0.93   \n",
       "263734                  0.00                      0.00                  0.92   \n",
       "\n",
       "        dst_host_srv_rerror_rate  label  \n",
       "226685                      0.00      6  \n",
       "226686                      0.00      6  \n",
       "226687                      0.33      6  \n",
       "263531                      0.01      1  \n",
       "263734                      1.00      1  \n",
       "\n",
       "[5 rows x 41 columns]"
      ]
     },
     "execution_count": 9,
     "metadata": {},
     "output_type": "execute_result"
    }
   ],
   "source": [
    "novelties.head(5)"
   ]
  },
  {
   "cell_type": "code",
   "execution_count": 10,
   "id": "643e91ac",
   "metadata": {
    "ExecuteTime": {
     "end_time": "2021-09-22T14:32:09.602553Z",
     "start_time": "2021-09-22T14:32:09.572632Z"
    }
   },
   "outputs": [
    {
     "data": {
      "text/html": [
       "<div>\n",
       "<style scoped>\n",
       "    .dataframe tbody tr th:only-of-type {\n",
       "        vertical-align: middle;\n",
       "    }\n",
       "\n",
       "    .dataframe tbody tr th {\n",
       "        vertical-align: top;\n",
       "    }\n",
       "\n",
       "    .dataframe thead th {\n",
       "        text-align: right;\n",
       "    }\n",
       "</style>\n",
       "<table border=\"1\" class=\"dataframe\">\n",
       "  <thead>\n",
       "    <tr style=\"text-align: right;\">\n",
       "      <th></th>\n",
       "      <th>duration</th>\n",
       "      <th>protocol_type</th>\n",
       "      <th>flag</th>\n",
       "      <th>src_bytes</th>\n",
       "      <th>dst_bytes</th>\n",
       "      <th>land</th>\n",
       "      <th>wrong_fragment</th>\n",
       "      <th>urgent</th>\n",
       "      <th>hot</th>\n",
       "      <th>num_failed_logins</th>\n",
       "      <th>...</th>\n",
       "      <th>dst_host_srv_count</th>\n",
       "      <th>dst_host_same_srv_rate</th>\n",
       "      <th>dst_host_diff_srv_rate</th>\n",
       "      <th>dst_host_same_src_port_rate</th>\n",
       "      <th>dst_host_srv_diff_host_rate</th>\n",
       "      <th>dst_host_serror_rate</th>\n",
       "      <th>dst_host_srv_serror_rate</th>\n",
       "      <th>dst_host_rerror_rate</th>\n",
       "      <th>dst_host_srv_rerror_rate</th>\n",
       "      <th>label</th>\n",
       "    </tr>\n",
       "  </thead>\n",
       "  <tbody>\n",
       "    <tr>\n",
       "      <th>209742</th>\n",
       "      <td>0</td>\n",
       "      <td>0</td>\n",
       "      <td>6</td>\n",
       "      <td>216</td>\n",
       "      <td>2431</td>\n",
       "      <td>0</td>\n",
       "      <td>0</td>\n",
       "      <td>0</td>\n",
       "      <td>0</td>\n",
       "      <td>0</td>\n",
       "      <td>...</td>\n",
       "      <td>255</td>\n",
       "      <td>1.0</td>\n",
       "      <td>0.0</td>\n",
       "      <td>0.01</td>\n",
       "      <td>0.01</td>\n",
       "      <td>0.0</td>\n",
       "      <td>0.0</td>\n",
       "      <td>0.0</td>\n",
       "      <td>0.0</td>\n",
       "      <td>4</td>\n",
       "    </tr>\n",
       "    <tr>\n",
       "      <th>209743</th>\n",
       "      <td>0</td>\n",
       "      <td>0</td>\n",
       "      <td>6</td>\n",
       "      <td>218</td>\n",
       "      <td>8746</td>\n",
       "      <td>0</td>\n",
       "      <td>0</td>\n",
       "      <td>0</td>\n",
       "      <td>0</td>\n",
       "      <td>0</td>\n",
       "      <td>...</td>\n",
       "      <td>255</td>\n",
       "      <td>1.0</td>\n",
       "      <td>0.0</td>\n",
       "      <td>0.01</td>\n",
       "      <td>0.01</td>\n",
       "      <td>0.0</td>\n",
       "      <td>0.0</td>\n",
       "      <td>0.0</td>\n",
       "      <td>0.0</td>\n",
       "      <td>4</td>\n",
       "    </tr>\n",
       "    <tr>\n",
       "      <th>209744</th>\n",
       "      <td>0</td>\n",
       "      <td>0</td>\n",
       "      <td>6</td>\n",
       "      <td>144</td>\n",
       "      <td>9534</td>\n",
       "      <td>0</td>\n",
       "      <td>0</td>\n",
       "      <td>0</td>\n",
       "      <td>0</td>\n",
       "      <td>0</td>\n",
       "      <td>...</td>\n",
       "      <td>255</td>\n",
       "      <td>1.0</td>\n",
       "      <td>0.0</td>\n",
       "      <td>0.01</td>\n",
       "      <td>0.01</td>\n",
       "      <td>0.0</td>\n",
       "      <td>0.0</td>\n",
       "      <td>0.0</td>\n",
       "      <td>0.0</td>\n",
       "      <td>4</td>\n",
       "    </tr>\n",
       "    <tr>\n",
       "      <th>209745</th>\n",
       "      <td>0</td>\n",
       "      <td>0</td>\n",
       "      <td>6</td>\n",
       "      <td>244</td>\n",
       "      <td>250</td>\n",
       "      <td>0</td>\n",
       "      <td>0</td>\n",
       "      <td>0</td>\n",
       "      <td>0</td>\n",
       "      <td>0</td>\n",
       "      <td>...</td>\n",
       "      <td>255</td>\n",
       "      <td>1.0</td>\n",
       "      <td>0.0</td>\n",
       "      <td>0.01</td>\n",
       "      <td>0.01</td>\n",
       "      <td>0.0</td>\n",
       "      <td>0.0</td>\n",
       "      <td>0.0</td>\n",
       "      <td>0.0</td>\n",
       "      <td>4</td>\n",
       "    </tr>\n",
       "    <tr>\n",
       "      <th>209746</th>\n",
       "      <td>0</td>\n",
       "      <td>0</td>\n",
       "      <td>6</td>\n",
       "      <td>205</td>\n",
       "      <td>12625</td>\n",
       "      <td>0</td>\n",
       "      <td>0</td>\n",
       "      <td>0</td>\n",
       "      <td>0</td>\n",
       "      <td>0</td>\n",
       "      <td>...</td>\n",
       "      <td>255</td>\n",
       "      <td>1.0</td>\n",
       "      <td>0.0</td>\n",
       "      <td>0.01</td>\n",
       "      <td>0.01</td>\n",
       "      <td>0.0</td>\n",
       "      <td>0.0</td>\n",
       "      <td>0.0</td>\n",
       "      <td>0.0</td>\n",
       "      <td>4</td>\n",
       "    </tr>\n",
       "  </tbody>\n",
       "</table>\n",
       "<p>5 rows × 41 columns</p>\n",
       "</div>"
      ],
      "text/plain": [
       "        duration  protocol_type  flag  src_bytes  dst_bytes  land  \\\n",
       "209742         0              0     6        216       2431     0   \n",
       "209743         0              0     6        218       8746     0   \n",
       "209744         0              0     6        144       9534     0   \n",
       "209745         0              0     6        244        250     0   \n",
       "209746         0              0     6        205      12625     0   \n",
       "\n",
       "        wrong_fragment  urgent  hot  num_failed_logins  ...  \\\n",
       "209742               0       0    0                  0  ...   \n",
       "209743               0       0    0                  0  ...   \n",
       "209744               0       0    0                  0  ...   \n",
       "209745               0       0    0                  0  ...   \n",
       "209746               0       0    0                  0  ...   \n",
       "\n",
       "        dst_host_srv_count  dst_host_same_srv_rate  dst_host_diff_srv_rate  \\\n",
       "209742                 255                     1.0                     0.0   \n",
       "209743                 255                     1.0                     0.0   \n",
       "209744                 255                     1.0                     0.0   \n",
       "209745                 255                     1.0                     0.0   \n",
       "209746                 255                     1.0                     0.0   \n",
       "\n",
       "        dst_host_same_src_port_rate  dst_host_srv_diff_host_rate  \\\n",
       "209742                         0.01                         0.01   \n",
       "209743                         0.01                         0.01   \n",
       "209744                         0.01                         0.01   \n",
       "209745                         0.01                         0.01   \n",
       "209746                         0.01                         0.01   \n",
       "\n",
       "        dst_host_serror_rate  dst_host_srv_serror_rate  dst_host_rerror_rate  \\\n",
       "209742                   0.0                       0.0                   0.0   \n",
       "209743                   0.0                       0.0                   0.0   \n",
       "209744                   0.0                       0.0                   0.0   \n",
       "209745                   0.0                       0.0                   0.0   \n",
       "209746                   0.0                       0.0                   0.0   \n",
       "\n",
       "        dst_host_srv_rerror_rate  label  \n",
       "209742                       0.0      4  \n",
       "209743                       0.0      4  \n",
       "209744                       0.0      4  \n",
       "209745                       0.0      4  \n",
       "209746                       0.0      4  \n",
       "\n",
       "[5 rows x 41 columns]"
      ]
     },
     "execution_count": 10,
     "metadata": {},
     "output_type": "execute_result"
    }
   ],
   "source": [
    "novelties.tail(5)"
   ]
  },
  {
   "cell_type": "code",
   "execution_count": 11,
   "id": "d6708432",
   "metadata": {
    "ExecuteTime": {
     "end_time": "2021-09-22T14:32:11.449923Z",
     "start_time": "2021-09-22T14:32:09.605548Z"
    }
   },
   "outputs": [],
   "source": [
    "for f in range(0, 10):\n",
    "    normal = normal.iloc[np.random.permutation(len(normal))]\n",
    "\n",
    "df2 = pd.concat([normal[:100000], normal[200000:250000]])\n",
    "df_validate = normal[100000:150000]\n",
    "x_train, x_test = train_test_split(df2, test_size=0.2, random_state=42)\n",
    "x_val = df_validate"
   ]
  },
  {
   "cell_type": "code",
   "execution_count": 12,
   "id": "0fc4e118",
   "metadata": {
    "ExecuteTime": {
     "end_time": "2021-09-22T14:32:11.465709Z",
     "start_time": "2021-09-22T14:32:11.450228Z"
    }
   },
   "outputs": [
    {
     "name": "stdout",
     "output_type": "stream",
     "text": [
      "Shapes:\n",
      "x_train:(120000, 41)\n",
      "\n",
      "x_test:(30000, 41)\n",
      "\n",
      "x_val:(50000, 41)\n",
      "\n"
     ]
    }
   ],
   "source": [
    "print(\"Shapes:\\nx_train:{}\\n\".format(x_train.shape))\n",
    "print(\"x_test:{}\\n\".format(x_test.shape))\n",
    "print(\"x_val:{}\\n\".format(x_val.shape))"
   ]
  },
  {
   "cell_type": "code",
   "execution_count": 13,
   "id": "59b07811",
   "metadata": {
    "ExecuteTime": {
     "end_time": "2021-09-22T14:32:11.481668Z",
     "start_time": "2021-09-22T14:32:11.466707Z"
    }
   },
   "outputs": [],
   "source": [
    "ocsvm = OneClassSVM(kernel='rbf', gamma=0.00005, nu=0.1)"
   ]
  },
  {
   "cell_type": "code",
   "execution_count": 14,
   "id": "55addf5e",
   "metadata": {
    "ExecuteTime": {
     "end_time": "2021-09-22T14:38:17.742192Z",
     "start_time": "2021-09-22T14:32:11.482666Z"
    }
   },
   "outputs": [
    {
     "data": {
      "text/plain": [
       "OneClassSVM(gamma=5e-05, nu=0.1)"
      ]
     },
     "execution_count": 14,
     "metadata": {},
     "output_type": "execute_result"
    }
   ],
   "source": [
    "ocsvm.fit(x_train)"
   ]
  },
  {
   "cell_type": "code",
   "execution_count": 15,
   "id": "b879e5eb",
   "metadata": {
    "ExecuteTime": {
     "end_time": "2021-09-22T14:38:17.758222Z",
     "start_time": "2021-09-22T14:38:17.743190Z"
    }
   },
   "outputs": [
    {
     "data": {
      "text/plain": [
       "0    30000\n",
       "Name: label, dtype: int64"
      ]
     },
     "execution_count": 15,
     "metadata": {},
     "output_type": "execute_result"
    }
   ],
   "source": [
    "x_test['label'].value_counts()"
   ]
  },
  {
   "cell_type": "code",
   "execution_count": 16,
   "id": "792be53c",
   "metadata": {
    "ExecuteTime": {
     "end_time": "2021-09-22T14:38:58.001149Z",
     "start_time": "2021-09-22T14:38:17.759248Z"
    }
   },
   "outputs": [
    {
     "name": "stdout",
     "output_type": "stream",
     "text": [
      "Accuracy: 89.61%\n"
     ]
    }
   ],
   "source": [
    "preds = ocsvm.predict(x_test)\n",
    "score = 0\n",
    "for f in range(0, x_test.shape[0]):\n",
    "    if (preds[f] == 1):\n",
    "        score = score + 1\n",
    "\n",
    "accuracy = score / x_test.shape[0]\n",
    "print(\"Accuracy: {:.2%}\".format(accuracy))"
   ]
  },
  {
   "cell_type": "code",
   "execution_count": 17,
   "id": "4c39ea4a",
   "metadata": {
    "ExecuteTime": {
     "end_time": "2021-09-22T14:40:05.187801Z",
     "start_time": "2021-09-22T14:38:58.002146Z"
    }
   },
   "outputs": [
    {
     "name": "stdout",
     "output_type": "stream",
     "text": [
      "Accuracy: 89.39%\n"
     ]
    }
   ],
   "source": [
    "preds = ocsvm.predict(x_val)\n",
    "score = 0\n",
    "for f in range(0, x_val.shape[0]):\n",
    "    if (preds[f] == 1):\n",
    "        score = score + 1\n",
    "\n",
    "accuracy = score / x_val.shape[0]\n",
    "print(\"Accuracy: {:.2%}\".format(accuracy))"
   ]
  },
  {
   "cell_type": "code",
   "execution_count": 18,
   "id": "a7880ac2",
   "metadata": {
    "ExecuteTime": {
     "end_time": "2021-09-22T14:40:16.183008Z",
     "start_time": "2021-09-22T14:40:05.188799Z"
    }
   },
   "outputs": [
    {
     "name": "stdout",
     "output_type": "stream",
     "text": [
      "AUC: 95.83%\n"
     ]
    }
   ],
   "source": [
    "from sklearn.metrics import roc_auc_score\n",
    "\n",
    "preds = ocsvm.predict(novelties)\n",
    "matches = novelties[\"label\"] == 4\n",
    "\n",
    "auc = roc_auc_score(preds, matches)\n",
    "print(\"AUC: {:.2%}\".format(auc))"
   ]
  },
  {
   "cell_type": "code",
   "execution_count": 19,
   "id": "1c085af6",
   "metadata": {
    "ExecuteTime": {
     "end_time": "2021-09-22T14:40:16.277335Z",
     "start_time": "2021-09-22T14:40:16.184006Z"
    }
   },
   "outputs": [
    {
     "data": {
      "image/png": "[encoded data removed]",
      "text/plain": [
       "<Figure size 720x360 with 1 Axes>"
      ]
     },
     "metadata": {
      "needs_background": "light"
     },
     "output_type": "display_data"
    }
   ],
   "source": [
    "plt.figure(figsize=(10, 5))\n",
    "plt.hist(preds, bins=[-1.5, -0.5] + [0.5, 1.5], align='mid')\n",
    "plt.xticks([-1, 1])\n",
    "plt.show()"
   ]
  }
 ],
 "metadata": {
  "kernelspec": {
   "display_name": "Python 3",
   "language": "python",
   "name": "python3"
  },
  "language_info": {
   "codemirror_mode": {
    "name": "ipython",
    "version": 3
   },
   "file_extension": ".py",
   "mimetype": "text/x-python",
   "name": "python",
   "nbconvert_exporter": "python",
   "pygments_lexer": "ipython3",
   "version": "3.8.10"
  }
 },
 "nbformat": 4,
 "nbformat_minor": 5
}
