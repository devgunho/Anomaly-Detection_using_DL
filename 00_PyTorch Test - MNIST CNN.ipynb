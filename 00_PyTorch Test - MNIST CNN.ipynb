{
 "cells": [
  {
   "cell_type": "code",
   "execution_count": 1,
   "id": "8e2dd348",
   "metadata": {
    "ExecuteTime": {
     "end_time": "2021-09-23T23:58:47.822621Z",
     "start_time": "2021-09-23T23:58:47.131168Z"
    }
   },
   "outputs": [
    {
     "name": "stdout",
     "output_type": "stream",
     "text": [
      "cuda:0\n"
     ]
    }
   ],
   "source": [
    "import torch\n",
    "import torch.nn as nn\n",
    "import torchvision\n",
    "import torchvision.transforms as transforms\n",
    "import torch.optim as optim\n",
    "import torch.nn.functional as F\n",
    "import numpy as np\n",
    "\n",
    "#If cuda device exists, use that. If not, default to CPU.\n",
    "device = torch.device('cuda:0' if torch.cuda.is_available() else 'cpu')\n",
    "print(device)"
   ]
  },
  {
   "cell_type": "code",
   "execution_count": 2,
   "id": "230c7950",
   "metadata": {
    "ExecuteTime": {
     "end_time": "2021-09-23T23:58:47.826610Z",
     "start_time": "2021-09-23T23:58:47.823619Z"
    }
   },
   "outputs": [],
   "source": [
    "#Hyperparameters\n",
    "num_epochs = 15\n",
    "num_classes = 10\n",
    "batch_size = 128\n",
    "learning_rate = 0.001"
   ]
  },
  {
   "cell_type": "code",
   "execution_count": 3,
   "id": "e124c000",
   "metadata": {
    "ExecuteTime": {
     "end_time": "2021-09-23T23:58:47.850546Z",
     "start_time": "2021-09-23T23:58:47.827607Z"
    }
   },
   "outputs": [],
   "source": [
    "#Load MNIST data set\n",
    "train_dataset = torchvision.datasets.MNIST(root='./datasets/',\n",
    "                                           train=True,\n",
    "                                           transform=transforms.ToTensor(),\n",
    "                                           download=True)\n",
    "\n",
    "test_dataset = torchvision.datasets.MNIST(root='./datasets/',\n",
    "                                          train=False,\n",
    "                                          transform=transforms.ToTensor())\n",
    "\n",
    "#Data loader\n",
    "train_loader = torch.utils.data.DataLoader(dataset=train_dataset,\n",
    "                                           batch_size=batch_size,\n",
    "                                           shuffle=True)\n",
    "\n",
    "test_loader = torch.utils.data.DataLoader(dataset=test_dataset,\n",
    "                                          batch_size=batch_size,\n",
    "                                          shuffle=False)"
   ]
  },
  {
   "cell_type": "code",
   "execution_count": 4,
   "id": "c9f196f9",
   "metadata": {
    "ExecuteTime": {
     "end_time": "2021-09-23T23:58:47.856530Z",
     "start_time": "2021-09-23T23:58:47.851543Z"
    }
   },
   "outputs": [],
   "source": [
    "class CNN(nn.Module):\n",
    "    def __init__(self):\n",
    "        super(CNN, self).__init__()\n",
    "        self.conv1 = nn.Conv2d(1, 32, 3, 1)\n",
    "        self.conv2 = nn.Conv2d(32, 64, 3, 1)\n",
    "        self.dense1 = nn.Linear(12 * 12 * 64, 128)\n",
    "        self.dense2 = nn.Linear(128, num_classes)\n",
    "\n",
    "    def forward(self, x):\n",
    "        x = F.relu(self.conv1(x))\n",
    "        x = F.relu(self.conv2(x))\n",
    "        x = F.max_pool2d(x, 2, 2)\n",
    "        x = F.dropout(x, 0.25)\n",
    "        x = x.view(-1, 12 * 12 * 64)\n",
    "        x = F.relu(self.dense1(x))\n",
    "        x = F.dropout(x, 0.5)\n",
    "        x = self.dense2(x)\n",
    "        return F.log_softmax(x, dim=1)"
   ]
  },
  {
   "cell_type": "code",
   "execution_count": 5,
   "id": "13ef97d2",
   "metadata": {
    "ExecuteTime": {
     "end_time": "2021-09-24T00:00:10.021973Z",
     "start_time": "2021-09-23T23:58:47.857528Z"
    }
   },
   "outputs": [
    {
     "name": "stdout",
     "output_type": "stream",
     "text": [
      "Epoch [1/15], Step [100/469], Loss: 0.3061\n",
      "Epoch [1/15], Step [200/469], Loss: 0.2156\n",
      "Epoch [1/15], Step [300/469], Loss: 0.1312\n",
      "Epoch [1/15], Step [400/469], Loss: 0.1308\n",
      "Epoch [2/15], Step [100/469], Loss: 0.0671\n",
      "Epoch [2/15], Step [200/469], Loss: 0.0833\n",
      "Epoch [2/15], Step [300/469], Loss: 0.0476\n",
      "Epoch [2/15], Step [400/469], Loss: 0.0379\n",
      "Epoch [3/15], Step [100/469], Loss: 0.0758\n",
      "Epoch [3/15], Step [200/469], Loss: 0.0410\n",
      "Epoch [3/15], Step [300/469], Loss: 0.1160\n",
      "Epoch [3/15], Step [400/469], Loss: 0.1267\n",
      "Epoch [4/15], Step [100/469], Loss: 0.1006\n",
      "Epoch [4/15], Step [200/469], Loss: 0.0733\n",
      "Epoch [4/15], Step [300/469], Loss: 0.0325\n",
      "Epoch [4/15], Step [400/469], Loss: 0.1106\n",
      "Epoch [5/15], Step [100/469], Loss: 0.1888\n",
      "Epoch [5/15], Step [200/469], Loss: 0.0292\n",
      "Epoch [5/15], Step [300/469], Loss: 0.0480\n",
      "Epoch [5/15], Step [400/469], Loss: 0.0459\n",
      "Epoch [6/15], Step [100/469], Loss: 0.0366\n",
      "Epoch [6/15], Step [200/469], Loss: 0.0191\n",
      "Epoch [6/15], Step [300/469], Loss: 0.0123\n",
      "Epoch [6/15], Step [400/469], Loss: 0.0234\n",
      "Epoch [7/15], Step [100/469], Loss: 0.0074\n",
      "Epoch [7/15], Step [200/469], Loss: 0.0440\n",
      "Epoch [7/15], Step [300/469], Loss: 0.0608\n",
      "Epoch [7/15], Step [400/469], Loss: 0.0242\n",
      "Epoch [8/15], Step [100/469], Loss: 0.0461\n",
      "Epoch [8/15], Step [200/469], Loss: 0.0687\n",
      "Epoch [8/15], Step [300/469], Loss: 0.0060\n",
      "Epoch [8/15], Step [400/469], Loss: 0.0637\n",
      "Epoch [9/15], Step [100/469], Loss: 0.0433\n",
      "Epoch [9/15], Step [200/469], Loss: 0.0327\n",
      "Epoch [9/15], Step [300/469], Loss: 0.0263\n",
      "Epoch [9/15], Step [400/469], Loss: 0.0136\n",
      "Epoch [10/15], Step [100/469], Loss: 0.0658\n",
      "Epoch [10/15], Step [200/469], Loss: 0.0084\n",
      "Epoch [10/15], Step [300/469], Loss: 0.0568\n",
      "Epoch [10/15], Step [400/469], Loss: 0.0062\n",
      "Epoch [11/15], Step [100/469], Loss: 0.0258\n",
      "Epoch [11/15], Step [200/469], Loss: 0.0377\n",
      "Epoch [11/15], Step [300/469], Loss: 0.0319\n",
      "Epoch [11/15], Step [400/469], Loss: 0.0592\n",
      "Epoch [12/15], Step [100/469], Loss: 0.0728\n",
      "Epoch [12/15], Step [200/469], Loss: 0.0277\n",
      "Epoch [12/15], Step [300/469], Loss: 0.0229\n",
      "Epoch [12/15], Step [400/469], Loss: 0.0205\n",
      "Epoch [13/15], Step [100/469], Loss: 0.0078\n",
      "Epoch [13/15], Step [200/469], Loss: 0.0046\n",
      "Epoch [13/15], Step [300/469], Loss: 0.0430\n",
      "Epoch [13/15], Step [400/469], Loss: 0.0125\n",
      "Epoch [14/15], Step [100/469], Loss: 0.0145\n",
      "Epoch [14/15], Step [200/469], Loss: 0.0282\n",
      "Epoch [14/15], Step [300/469], Loss: 0.0193\n",
      "Epoch [14/15], Step [400/469], Loss: 0.0175\n",
      "Epoch [15/15], Step [100/469], Loss: 0.0045\n",
      "Epoch [15/15], Step [200/469], Loss: 0.0240\n",
      "Epoch [15/15], Step [300/469], Loss: 0.0031\n",
      "Epoch [15/15], Step [400/469], Loss: 0.0223\n"
     ]
    }
   ],
   "source": [
    "model = CNN().to(device)\n",
    "criterion = nn.CrossEntropyLoss()\n",
    "optimizer = torch.optim.Adam(model.parameters(), lr=learning_rate)\n",
    "\n",
    "total_step = len(train_loader)\n",
    "for epoch in range(num_epochs):\n",
    "    for i, (images, labels) in enumerate(train_loader):\n",
    "        images = images.to(device)\n",
    "        labels = labels.to(device)\n",
    "\n",
    "        # Forward pass\n",
    "        outputs = model(images)\n",
    "        loss = criterion(outputs, labels)\n",
    "\n",
    "        # Backward and optimize\n",
    "        optimizer.zero_grad()\n",
    "        loss.backward()\n",
    "        optimizer.step()\n",
    "\n",
    "        if (i + 1) % 100 == 0:\n",
    "            print('Epoch [{}/{}], Step [{}/{}], Loss: {:.4f}'.format(\n",
    "                epoch + 1, num_epochs, i + 1, total_step, loss.item()))"
   ]
  },
  {
   "cell_type": "code",
   "execution_count": 6,
   "id": "1ee1b448",
   "metadata": {
    "ExecuteTime": {
     "end_time": "2021-09-24T00:00:12.155230Z",
     "start_time": "2021-09-24T00:00:10.021973Z"
    }
   },
   "outputs": [
    {
     "name": "stdout",
     "output_type": "stream",
     "text": [
      "Test Accuracy of the model on the 10000 test images: 98.52%\n",
      "AUC: 99.18%\n"
     ]
    }
   ],
   "source": [
    "from sklearn.metrics import roc_auc_score\n",
    "\n",
    "preds = []\n",
    "y_true = []\n",
    "# Test the model\n",
    "model.eval()  # Set model to evaluation mode.\n",
    "with torch.no_grad():\n",
    "    correct = 0\n",
    "    total = 0\n",
    "    for images, labels in test_loader:\n",
    "        images = images.to(device)\n",
    "        labels = labels.to(device)\n",
    "        outputs = model(images)\n",
    "        _, predicted = torch.max(outputs.data, 1)\n",
    "        total += labels.size(0)\n",
    "        correct += (predicted == labels).sum().item()\n",
    "        detached_pred = predicted.detach().cpu().numpy()\n",
    "        detached_label = labels.detach().cpu().numpy()\n",
    "        for f in range(0, len(detached_pred)):\n",
    "            preds.append(detached_pred[f])\n",
    "            y_true.append(detached_label[f])\n",
    "\n",
    "    print('Test Accuracy of the model on the 10000 test images: {:.2%}'.format(\n",
    "        correct / total))\n",
    "\n",
    "    preds = np.eye(num_classes)[preds]\n",
    "    y_true = np.eye(num_classes)[y_true]\n",
    "    auc = roc_auc_score(preds, y_true)\n",
    "    print(\"AUC: {:.2%}\".format(auc))\n",
    "    \n",
    "# Save the model checkpoint\n",
    "# torch.save(model.state_dict(), 'pytorch_mnist_cnn.ckpt')"
   ]
  }
 ],
 "metadata": {
  "kernelspec": {
   "display_name": "Python 3",
   "language": "python",
   "name": "python3"
  },
  "language_info": {
   "codemirror_mode": {
    "name": "ipython",
    "version": 3
   },
   "file_extension": ".py",
   "mimetype": "text/x-python",
   "name": "python",
   "nbconvert_exporter": "python",
   "pygments_lexer": "ipython3",
   "version": "3.8.10"
  }
 },
 "nbformat": 4,
 "nbformat_minor": 5
}
