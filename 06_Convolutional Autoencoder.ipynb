{
 "cells": [
  {
   "cell_type": "code",
   "execution_count": 1,
   "id": "4831b452",
   "metadata": {
    "ExecuteTime": {
     "end_time": "2021-10-04T08:15:54.525629Z",
     "start_time": "2021-10-04T08:15:49.867902Z"
    }
   },
   "outputs": [
    {
     "name": "stdout",
     "output_type": "stream",
     "text": [
      "Python:  3.8.10 (default, May 19 2021, 13:12:57) [MSC v.1916 64 bit (AMD64)]\n",
      "pandas:  1.2.4\n",
      "numpy:  1.20.2\n",
      "seaborn:  0.11.1\n",
      "matplotlib:  3.3.4\n",
      "sklearn:  0.24.2\n",
      "Keras:  2.5.0\n",
      "Tensorflow:  2.5.0\n"
     ]
    }
   ],
   "source": [
    "import tensorflow as tf\n",
    "from tensorflow.python import keras\n",
    "from tensorflow.python.keras import optimizers\n",
    "from tensorflow.python.keras import losses\n",
    "from tensorflow.python.keras.models import Sequential, Model\n",
    "from tensorflow.python.keras.layers import Dense, Input, Dropout, Embedding, LSTM\n",
    "from tensorflow.python.keras.optimizers import adam_v2\n",
    "from tensorflow.python.keras.preprocessing import sequence\n",
    "from tensorflow.python.keras.callbacks import TensorBoard\n",
    "from tensorflow.python.keras import regularizers\n",
    "\n",
    "import sklearn\n",
    "from sklearn.preprocessing import StandardScaler\n",
    "from sklearn.model_selection import train_test_split\n",
    "from sklearn.metrics import confusion_matrix, roc_auc_score\n",
    "from sklearn.preprocessing import MinMaxScaler\n",
    "\n",
    "import seaborn as sns\n",
    "import pandas as pd\n",
    "import numpy as np\n",
    "import matplotlib\n",
    "\n",
    "import matplotlib.pyplot as plt\n",
    "import matplotlib.gridspec as gridspec\n",
    "%matplotlib inline\n",
    "\n",
    "import tensorflow\n",
    "import sys\n",
    "\n",
    "print(\"Python: \", sys.version)\n",
    "\n",
    "print(\"pandas: \", pd.__version__)\n",
    "print(\"numpy: \", np.__version__)\n",
    "print(\"seaborn: \", sns.__version__)\n",
    "print(\"matplotlib: \", matplotlib.__version__)\n",
    "print(\"sklearn: \", sklearn.__version__)\n",
    "print(\"Keras: \", keras.__version__)\n",
    "print(\"Tensorflow: \", tensorflow.__version__)"
   ]
  },
  {
   "cell_type": "code",
   "execution_count": 2,
   "id": "ff8ba961",
   "metadata": {
    "ExecuteTime": {
     "end_time": "2021-10-04T08:15:54.990493Z",
     "start_time": "2021-10-04T08:15:54.526631Z"
    }
   },
   "outputs": [],
   "source": [
    "from keras.datasets import mnist\n",
    "\n",
    "(x_train, _), (x_test, _) = mnist.load_data()"
   ]
  },
  {
   "cell_type": "code",
   "execution_count": 3,
   "id": "e3b388e2",
   "metadata": {
    "ExecuteTime": {
     "end_time": "2021-10-04T08:15:55.117051Z",
     "start_time": "2021-10-04T08:15:54.991497Z"
    }
   },
   "outputs": [],
   "source": [
    "x_train = x_train.astype('float32') / 255.\n",
    "x_test = x_test.astype('float32') / 255.\n",
    "x_train = np.reshape(\n",
    "    x_train, (len(x_train), 28, 28,\n",
    "              1))  # adapt this if using `channels_first` image data format\n",
    "x_test = np.reshape(\n",
    "    x_test, (len(x_test), 28, 28,\n",
    "             1))  # adapt this if using `channels_first` image data format"
   ]
  },
  {
   "cell_type": "code",
   "execution_count": 4,
   "id": "95fc229c",
   "metadata": {
    "ExecuteTime": {
     "end_time": "2021-10-04T08:15:55.242777Z",
     "start_time": "2021-10-04T08:15:55.118053Z"
    }
   },
   "outputs": [
    {
     "name": "stdout",
     "output_type": "stream",
     "text": [
      "Model: \"model\"\n",
      "_________________________________________________________________\n",
      "Layer (type)                 Output Shape              Param #   \n",
      "=================================================================\n",
      "input_1 (InputLayer)         [(None, 28, 28, 1)]       0         \n",
      "_________________________________________________________________\n",
      "conv2d (Conv2D)              (None, 28, 28, 16)        160       \n",
      "_________________________________________________________________\n",
      "max_pooling2d (MaxPooling2D) (None, 14, 14, 16)        0         \n",
      "_________________________________________________________________\n",
      "conv2d_1 (Conv2D)            (None, 14, 14, 8)         1160      \n",
      "_________________________________________________________________\n",
      "max_pooling2d_1 (MaxPooling2 (None, 7, 7, 8)           0         \n",
      "_________________________________________________________________\n",
      "conv2d_2 (Conv2D)            (None, 7, 7, 8)           584       \n",
      "_________________________________________________________________\n",
      "max_pooling2d_2 (MaxPooling2 (None, 4, 4, 8)           0         \n",
      "_________________________________________________________________\n",
      "conv2d_3 (Conv2D)            (None, 4, 4, 8)           584       \n",
      "_________________________________________________________________\n",
      "up_sampling2d (UpSampling2D) (None, 8, 8, 8)           0         \n",
      "_________________________________________________________________\n",
      "conv2d_4 (Conv2D)            (None, 8, 8, 8)           584       \n",
      "_________________________________________________________________\n",
      "up_sampling2d_1 (UpSampling2 (None, 16, 16, 8)         0         \n",
      "_________________________________________________________________\n",
      "conv2d_5 (Conv2D)            (None, 14, 14, 16)        1168      \n",
      "_________________________________________________________________\n",
      "up_sampling2d_2 (UpSampling2 (None, 28, 28, 16)        0         \n",
      "_________________________________________________________________\n",
      "conv2d_6 (Conv2D)            (None, 28, 28, 1)         145       \n",
      "=================================================================\n",
      "Total params: 4,385\n",
      "Trainable params: 4,385\n",
      "Non-trainable params: 0\n",
      "_________________________________________________________________\n"
     ]
    }
   ],
   "source": [
    "from tensorflow.python.keras.layers import Input, Dense, Conv2D, MaxPooling2D, UpSampling2D\n",
    "from keras import backend as K\n",
    "\n",
    "# Convolutional Autoencoder\n",
    "logfilename = \"ConvolutionalAutoencoder\"\n",
    "\n",
    "input_img = Input(\n",
    "    shape=(28, 28,\n",
    "           1))  # adapt this if using `channels_first` image data format\n",
    "\n",
    "x = Conv2D(16, (3, 3), activation='relu', padding='same')(input_img)\n",
    "x = MaxPooling2D((2, 2), padding='same')(x)\n",
    "x = Conv2D(8, (3, 3), activation='relu', padding='same')(x)\n",
    "x = MaxPooling2D((2, 2), padding='same')(x)\n",
    "x = Conv2D(8, (3, 3), activation='relu', padding='same')(x)\n",
    "encoded = MaxPooling2D((2, 2), padding='same')(x)\n",
    "\n",
    "# at this point the representation is (4, 4, 8) i.e. 128-dimensional\n",
    "\n",
    "x = Conv2D(8, (3, 3), activation='relu', padding='same')(encoded)\n",
    "x = UpSampling2D((2, 2))(x)\n",
    "x = Conv2D(8, (3, 3), activation='relu', padding='same')(x)\n",
    "x = UpSampling2D((2, 2))(x)\n",
    "x = Conv2D(16, (3, 3), activation='relu')(x)\n",
    "x = UpSampling2D((2, 2))(x)\n",
    "decoded = Conv2D(1, (3, 3), activation='sigmoid', padding='same')(x)\n",
    "\n",
    "autoencoder = Model(input_img, decoded)\n",
    "\n",
    "autoencoder.summary()"
   ]
  },
  {
   "cell_type": "code",
   "execution_count": 5,
   "id": "149b9463",
   "metadata": {
    "ExecuteTime": {
     "end_time": "2021-10-04T08:15:55.257768Z",
     "start_time": "2021-10-04T08:15:55.243768Z"
    }
   },
   "outputs": [],
   "source": [
    "autoencoder.compile(optimizer=tf.keras.optimizers.RMSprop(),\n",
    "                    loss='mean_squared_error',\n",
    "                    metrics=['mae', 'accuracy'])"
   ]
  },
  {
   "cell_type": "code",
   "execution_count": 6,
   "id": "3b80ea99",
   "metadata": {
    "ExecuteTime": {
     "end_time": "2021-10-04T08:26:15.384363Z",
     "start_time": "2021-10-04T08:15:55.258767Z"
    }
   },
   "outputs": [
    {
     "name": "stdout",
     "output_type": "stream",
     "text": [
      "Epoch 1/20\n",
      "1875/1875 [==============================] - 33s 17ms/step - loss: 0.0339 - mae: 0.0824 - accuracy: 0.8000 - val_loss: 0.0222 - val_mae: 0.0597 - val_accuracy: 0.8053\n",
      "Epoch 2/20\n",
      "1875/1875 [==============================] - 34s 18ms/step - loss: 0.0212 - mae: 0.0566 - accuracy: 0.8076 - val_loss: 0.0178 - val_mae: 0.0508 - val_accuracy: 0.8095\n",
      "Epoch 3/20\n",
      "1875/1875 [==============================] - 34s 18ms/step - loss: 0.0180 - mae: 0.0504 - accuracy: 0.8095 - val_loss: 0.0182 - val_mae: 0.0504 - val_accuracy: 0.8057\n",
      "Epoch 4/20\n",
      "1875/1875 [==============================] - 35s 19ms/step - loss: 0.0165 - mae: 0.0472 - accuracy: 0.8105 - val_loss: 0.0165 - val_mae: 0.0483 - val_accuracy: 0.8084\n",
      "Epoch 5/20\n",
      "1875/1875 [==============================] - 34s 18ms/step - loss: 0.0155 - mae: 0.0452 - accuracy: 0.8110 - val_loss: 0.0147 - val_mae: 0.0438 - val_accuracy: 0.8089\n",
      "Epoch 6/20\n",
      "1875/1875 [==============================] - 35s 18ms/step - loss: 0.0147 - mae: 0.0437 - accuracy: 0.8114 - val_loss: 0.0139 - val_mae: 0.0418 - val_accuracy: 0.8113\n",
      "Epoch 7/20\n",
      "1875/1875 [==============================] - 34s 18ms/step - loss: 0.0142 - mae: 0.0426 - accuracy: 0.8117 - val_loss: 0.0138 - val_mae: 0.0426 - val_accuracy: 0.8097\n",
      "Epoch 8/20\n",
      "1875/1875 [==============================] - 34s 18ms/step - loss: 0.0137 - mae: 0.0417 - accuracy: 0.8119 - val_loss: 0.0135 - val_mae: 0.0405 - val_accuracy: 0.8121\n",
      "Epoch 9/20\n",
      "1875/1875 [==============================] - 32s 17ms/step - loss: 0.0134 - mae: 0.0409 - accuracy: 0.8121 - val_loss: 0.0130 - val_mae: 0.0404 - val_accuracy: 0.8102\n",
      "Epoch 10/20\n",
      "1875/1875 [==============================] - 29s 15ms/step - loss: 0.0131 - mae: 0.0403 - accuracy: 0.8123 - val_loss: 0.0122 - val_mae: 0.0387 - val_accuracy: 0.8110\n",
      "Epoch 11/20\n",
      "1875/1875 [==============================] - 28s 15ms/step - loss: 0.0128 - mae: 0.0398 - accuracy: 0.8124 - val_loss: 0.0122 - val_mae: 0.0388 - val_accuracy: 0.8107\n",
      "Epoch 12/20\n",
      "1875/1875 [==============================] - 29s 15ms/step - loss: 0.0126 - mae: 0.0393 - accuracy: 0.8125 - val_loss: 0.0118 - val_mae: 0.0375 - val_accuracy: 0.8120\n",
      "Epoch 13/20\n",
      "1875/1875 [==============================] - 30s 16ms/step - loss: 0.0124 - mae: 0.0389 - accuracy: 0.8126 - val_loss: 0.0116 - val_mae: 0.0376 - val_accuracy: 0.8114\n",
      "Epoch 14/20\n",
      "1875/1875 [==============================] - 29s 15ms/step - loss: 0.0122 - mae: 0.0385 - accuracy: 0.8127 - val_loss: 0.0120 - val_mae: 0.0385 - val_accuracy: 0.8114\n",
      "Epoch 15/20\n",
      "1875/1875 [==============================] - 29s 15ms/step - loss: 0.0120 - mae: 0.0382 - accuracy: 0.8128 - val_loss: 0.0122 - val_mae: 0.0386 - val_accuracy: 0.8129\n",
      "Epoch 16/20\n",
      "1875/1875 [==============================] - 28s 15ms/step - loss: 0.0119 - mae: 0.0379 - accuracy: 0.8128 - val_loss: 0.0112 - val_mae: 0.0365 - val_accuracy: 0.8126\n",
      "Epoch 17/20\n",
      "1875/1875 [==============================] - 28s 15ms/step - loss: 0.0117 - mae: 0.0375 - accuracy: 0.8129 - val_loss: 0.0107 - val_mae: 0.0356 - val_accuracy: 0.8122\n",
      "Epoch 18/20\n",
      "1875/1875 [==============================] - 29s 15ms/step - loss: 0.0116 - mae: 0.0372 - accuracy: 0.8130 - val_loss: 0.0108 - val_mae: 0.0357 - val_accuracy: 0.8121\n",
      "Epoch 19/20\n",
      "1875/1875 [==============================] - 29s 15ms/step - loss: 0.0115 - mae: 0.0370 - accuracy: 0.8131 - val_loss: 0.0128 - val_mae: 0.0389 - val_accuracy: 0.8130\n",
      "Epoch 20/20\n",
      "1875/1875 [==============================] - 29s 15ms/step - loss: 0.0113 - mae: 0.0367 - accuracy: 0.8131 - val_loss: 0.0106 - val_mae: 0.0351 - val_accuracy: 0.8127\n"
     ]
    }
   ],
   "source": [
    "batch_size = 32\n",
    "epochs = 20\n",
    "\n",
    "history = autoencoder.fit(\n",
    "    x_train,\n",
    "    x_train,\n",
    "    batch_size=batch_size,\n",
    "    epochs=epochs,\n",
    "    verbose=1,\n",
    "    shuffle=True,\n",
    "    validation_data=(x_test, x_test),\n",
    "    #     callbacks=[TensorBoard(log_dir='../logs/{0}'.format(logfilename))]\n",
    ")"
   ]
  },
  {
   "cell_type": "code",
   "execution_count": 7,
   "id": "605672ee",
   "metadata": {
    "ExecuteTime": {
     "end_time": "2021-10-04T08:26:16.903250Z",
     "start_time": "2021-10-04T08:26:15.386363Z"
    }
   },
   "outputs": [
    {
     "name": "stdout",
     "output_type": "stream",
     "text": [
      "313/313 [==============================] - 1s 5ms/step - loss: 0.0106 - mae: 0.0351 - accuracy: 0.8127\n",
      "Test loss: 0.010614821687340736\n",
      "Test accuracy: 0.035129595547914505\n"
     ]
    }
   ],
   "source": [
    "score = autoencoder.evaluate(x_test, x_test, verbose=1)\n",
    "print('Test loss:', score[0])\n",
    "print('Test accuracy:', score[1])"
   ]
  },
  {
   "cell_type": "code",
   "execution_count": 8,
   "id": "a0988898",
   "metadata": {
    "ExecuteTime": {
     "end_time": "2021-10-04T08:26:18.836293Z",
     "start_time": "2021-10-04T08:26:16.904243Z"
    }
   },
   "outputs": [
    {
     "data": {
      "image/png": "[encoded data removed]",
      "text/plain": [
       "<Figure size 1440x288 with 18 Axes>"
      ]
     },
     "metadata": {
      "needs_background": "light"
     },
     "output_type": "display_data"
    }
   ],
   "source": [
    "decoded_imgs = autoencoder.predict(x_test)\n",
    "\n",
    "n = 10\n",
    "plt.figure(figsize=(20, 4))\n",
    "for i in range(1, n):\n",
    "    # display original\n",
    "    ax = plt.subplot(2, n, i)\n",
    "    plt.imshow(x_test[i].reshape(28, 28))\n",
    "    plt.gray()\n",
    "    ax.get_xaxis().set_visible(False)\n",
    "    ax.get_yaxis().set_visible(False)\n",
    "\n",
    "    # display reconstruction\n",
    "    ax = plt.subplot(2, n, i + n)\n",
    "    plt.imshow(decoded_imgs[i].reshape(28, 28))\n",
    "    plt.gray()\n",
    "    ax.get_xaxis().set_visible(False)\n",
    "    ax.get_yaxis().set_visible(False)\n",
    "plt.show()"
   ]
  },
  {
   "cell_type": "code",
   "execution_count": 9,
   "id": "2ecc467c",
   "metadata": {
    "ExecuteTime": {
     "end_time": "2021-10-04T08:26:19.567054Z",
     "start_time": "2021-10-04T08:26:18.837295Z"
    }
   },
   "outputs": [
    {
     "data": {
      "image/png": "[encoded data removed]",
      "text/plain": [
       "<Figure size 1440x576 with 9 Axes>"
      ]
     },
     "metadata": {
      "needs_background": "light"
     },
     "output_type": "display_data"
    }
   ],
   "source": [
    "encoder = Model(input_img, encoded)\n",
    "encoded_imgs = encoder.predict(x_test)\n",
    "n = 10\n",
    "plt.figure(figsize=(20, 8))\n",
    "for i in range(1, n):\n",
    "    ax = plt.subplot(1, n, i)\n",
    "    plt.imshow(encoded_imgs[i].reshape(4, 4 * 8).T)\n",
    "    plt.gray()\n",
    "    ax.get_xaxis().set_visible(False)\n",
    "    ax.get_yaxis().set_visible(False)\n",
    "plt.show()"
   ]
  }
 ],
 "metadata": {
  "kernelspec": {
   "display_name": "Python 3",
   "language": "python",
   "name": "python3"
  },
  "language_info": {
   "codemirror_mode": {
    "name": "ipython",
    "version": 3
   },
   "file_extension": ".py",
   "mimetype": "text/x-python",
   "name": "python",
   "nbconvert_exporter": "python",
   "pygments_lexer": "ipython3",
   "version": "3.8.10"
  }
 },
 "nbformat": 4,
 "nbformat_minor": 5
}
