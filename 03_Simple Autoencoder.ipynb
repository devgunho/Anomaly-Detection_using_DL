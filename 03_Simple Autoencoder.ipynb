{
 "cells": [
  {
   "cell_type": "code",
   "execution_count": 1,
   "id": "aa5f2036",
   "metadata": {
    "ExecuteTime": {
     "end_time": "2021-10-04T05:50:31.030853Z",
     "start_time": "2021-10-04T05:50:26.738119Z"
    }
   },
   "outputs": [
    {
     "name": "stdout",
     "output_type": "stream",
     "text": [
      "Python:  3.8.10 (default, May 19 2021, 13:12:57) [MSC v.1916 64 bit (AMD64)]\n",
      "pandas:  1.2.4\n",
      "numpy:  1.20.2\n",
      "seaborn:  0.11.1\n",
      "matplotlib:  3.3.4\n",
      "sklearn:  0.24.2\n",
      "Keras:  2.5.0\n",
      "Tensorflow:  2.5.0\n"
     ]
    }
   ],
   "source": [
    "import tensorflow as tf\n",
    "import sys\n",
    "from tensorflow.python import keras\n",
    "from tensorflow.python.keras import optimizers\n",
    "from tensorflow.python.keras import losses\n",
    "from tensorflow.python.keras.models import Sequential, Model\n",
    "from tensorflow.python.keras.layers import Dense, Input, Dropout, Embedding, LSTM\n",
    "from tensorflow.python.keras.optimizers import adam_v2\n",
    "from tensorflow.python.keras.preprocessing import sequence\n",
    "from tensorflow.python.keras.callbacks import TensorBoard\n",
    "from tensorflow.python.keras import regularizers\n",
    "\n",
    "import sklearn\n",
    "from sklearn.preprocessing import StandardScaler\n",
    "from sklearn.model_selection import train_test_split\n",
    "from sklearn.metrics import confusion_matrix, roc_auc_score\n",
    "from sklearn.preprocessing import MinMaxScaler\n",
    "from sklearn.metrics import classification_report\n",
    "\n",
    "import seaborn as sns\n",
    "import pandas as pd\n",
    "import numpy as np\n",
    "import matplotlib\n",
    "\n",
    "import matplotlib.pyplot as plt\n",
    "import matplotlib.gridspec as gridspec\n",
    "%matplotlib inline\n",
    "\n",
    "print(\"Python: \", sys.version)\n",
    "\n",
    "print(\"pandas: \", pd.__version__)\n",
    "print(\"numpy: \", np.__version__)\n",
    "print(\"seaborn: \", sns.__version__)\n",
    "print(\"matplotlib: \", matplotlib.__version__)\n",
    "print(\"sklearn: \", sklearn.__version__)\n",
    "print(\"Keras: \", keras.__version__)\n",
    "print(\"Tensorflow: \", tf.__version__)"
   ]
  },
  {
   "cell_type": "code",
   "execution_count": 2,
   "id": "58dbabf0",
   "metadata": {
    "ExecuteTime": {
     "end_time": "2021-10-04T05:50:31.046853Z",
     "start_time": "2021-10-04T05:50:31.031854Z"
    }
   },
   "outputs": [],
   "source": [
    "class Visualization:\n",
    "    labels = [\"Normal\", \"Anomaly\"]\n",
    "\n",
    "    def draw_confusion_matrix(self, y, ypred):\n",
    "        matrix = confusion_matrix(y, ypred)\n",
    "\n",
    "        plt.figure(figsize=(10, 8))\n",
    "        colors = [\"orange\", \"green\"]\n",
    "        sns.heatmap(matrix,\n",
    "                    xticklabels=self.labels,\n",
    "                    yticklabels=self.labels,\n",
    "                    cmap=colors,\n",
    "                    annot=True,\n",
    "                    fmt=\"d\")\n",
    "        plt.title(\"Confusion Matrix\")\n",
    "        plt.ylabel('Actual')\n",
    "        plt.xlabel('Predicted')\n",
    "        plt.show()\n",
    "\n",
    "    def draw_anomaly(self, y, error, threshold):\n",
    "        groupsDF = pd.DataFrame({'error': error, 'true': y}).groupby('true')\n",
    "\n",
    "        figure, axes = plt.subplots(figsize=(12, 8))\n",
    "\n",
    "        for name, group in groupsDF:\n",
    "            axes.plot(group.index,\n",
    "                      group.error,\n",
    "                      marker='x' if name == 1 else 'o',\n",
    "                      linestyle='',\n",
    "                      color='r' if name == 1 else 'g',\n",
    "                      label=\"Anomaly\" if name == 1 else \"Normal\")\n",
    "\n",
    "        axes.hlines(threshold,\n",
    "                    axes.get_xlim()[0],\n",
    "                    axes.get_xlim()[1],\n",
    "                    colors=\"b\",\n",
    "                    zorder=100,\n",
    "                    label='Threshold')\n",
    "        axes.legend()\n",
    "\n",
    "        plt.title(\"Anomalies\")\n",
    "        plt.ylabel(\"Error\")\n",
    "        plt.xlabel(\"Data\")\n",
    "        plt.show()\n",
    "\n",
    "    def draw_error(self, error, threshold):\n",
    "        plt.plot(error, marker='o', ms=3.5, linestyle='', label='Point')\n",
    "\n",
    "        plt.hlines(threshold,\n",
    "                   xmin=0,\n",
    "                   xmax=len(error) - 1,\n",
    "                   colors=\"b\",\n",
    "                   zorder=100,\n",
    "                   label='Threshold')\n",
    "        plt.legend()\n",
    "        plt.title(\"Reconstruction error\")\n",
    "        plt.ylabel(\"Error\")\n",
    "        plt.xlabel(\"Data\")\n",
    "        plt.show()"
   ]
  },
  {
   "cell_type": "code",
   "execution_count": 3,
   "id": "fa6a1948",
   "metadata": {
    "ExecuteTime": {
     "end_time": "2021-10-04T05:50:32.926384Z",
     "start_time": "2021-10-04T05:50:31.047854Z"
    }
   },
   "outputs": [
    {
     "name": "stdout",
     "output_type": "stream",
     "text": [
      "284807\n"
     ]
    },
    {
     "data": {
      "text/html": [
       "<div>\n",
       "<style scoped>\n",
       "    .dataframe tbody tr th:only-of-type {\n",
       "        vertical-align: middle;\n",
       "    }\n",
       "\n",
       "    .dataframe tbody tr th {\n",
       "        vertical-align: top;\n",
       "    }\n",
       "\n",
       "    .dataframe thead th {\n",
       "        text-align: right;\n",
       "    }\n",
       "</style>\n",
       "<table border=\"1\" class=\"dataframe\">\n",
       "  <thead>\n",
       "    <tr style=\"text-align: right;\">\n",
       "      <th></th>\n",
       "      <th>Time</th>\n",
       "      <th>V1</th>\n",
       "      <th>V2</th>\n",
       "      <th>V3</th>\n",
       "      <th>V4</th>\n",
       "      <th>V5</th>\n",
       "      <th>V6</th>\n",
       "      <th>V7</th>\n",
       "      <th>V8</th>\n",
       "      <th>V9</th>\n",
       "      <th>...</th>\n",
       "      <th>V21</th>\n",
       "      <th>V22</th>\n",
       "      <th>V23</th>\n",
       "      <th>V24</th>\n",
       "      <th>V25</th>\n",
       "      <th>V26</th>\n",
       "      <th>V27</th>\n",
       "      <th>V28</th>\n",
       "      <th>Amount</th>\n",
       "      <th>Class</th>\n",
       "    </tr>\n",
       "  </thead>\n",
       "  <tbody>\n",
       "    <tr>\n",
       "      <th>0</th>\n",
       "      <td>0.0</td>\n",
       "      <td>-1.359807</td>\n",
       "      <td>-0.072781</td>\n",
       "      <td>2.536347</td>\n",
       "      <td>1.378155</td>\n",
       "      <td>-0.338321</td>\n",
       "      <td>0.462388</td>\n",
       "      <td>0.239599</td>\n",
       "      <td>0.098698</td>\n",
       "      <td>0.363787</td>\n",
       "      <td>...</td>\n",
       "      <td>-0.018307</td>\n",
       "      <td>0.277838</td>\n",
       "      <td>-0.110474</td>\n",
       "      <td>0.066928</td>\n",
       "      <td>0.128539</td>\n",
       "      <td>-0.189115</td>\n",
       "      <td>0.133558</td>\n",
       "      <td>-0.021053</td>\n",
       "      <td>149.62</td>\n",
       "      <td>0</td>\n",
       "    </tr>\n",
       "    <tr>\n",
       "      <th>1</th>\n",
       "      <td>0.0</td>\n",
       "      <td>1.191857</td>\n",
       "      <td>0.266151</td>\n",
       "      <td>0.166480</td>\n",
       "      <td>0.448154</td>\n",
       "      <td>0.060018</td>\n",
       "      <td>-0.082361</td>\n",
       "      <td>-0.078803</td>\n",
       "      <td>0.085102</td>\n",
       "      <td>-0.255425</td>\n",
       "      <td>...</td>\n",
       "      <td>-0.225775</td>\n",
       "      <td>-0.638672</td>\n",
       "      <td>0.101288</td>\n",
       "      <td>-0.339846</td>\n",
       "      <td>0.167170</td>\n",
       "      <td>0.125895</td>\n",
       "      <td>-0.008983</td>\n",
       "      <td>0.014724</td>\n",
       "      <td>2.69</td>\n",
       "      <td>0</td>\n",
       "    </tr>\n",
       "    <tr>\n",
       "      <th>2</th>\n",
       "      <td>1.0</td>\n",
       "      <td>-1.358354</td>\n",
       "      <td>-1.340163</td>\n",
       "      <td>1.773209</td>\n",
       "      <td>0.379780</td>\n",
       "      <td>-0.503198</td>\n",
       "      <td>1.800499</td>\n",
       "      <td>0.791461</td>\n",
       "      <td>0.247676</td>\n",
       "      <td>-1.514654</td>\n",
       "      <td>...</td>\n",
       "      <td>0.247998</td>\n",
       "      <td>0.771679</td>\n",
       "      <td>0.909412</td>\n",
       "      <td>-0.689281</td>\n",
       "      <td>-0.327642</td>\n",
       "      <td>-0.139097</td>\n",
       "      <td>-0.055353</td>\n",
       "      <td>-0.059752</td>\n",
       "      <td>378.66</td>\n",
       "      <td>0</td>\n",
       "    </tr>\n",
       "    <tr>\n",
       "      <th>3</th>\n",
       "      <td>1.0</td>\n",
       "      <td>-0.966272</td>\n",
       "      <td>-0.185226</td>\n",
       "      <td>1.792993</td>\n",
       "      <td>-0.863291</td>\n",
       "      <td>-0.010309</td>\n",
       "      <td>1.247203</td>\n",
       "      <td>0.237609</td>\n",
       "      <td>0.377436</td>\n",
       "      <td>-1.387024</td>\n",
       "      <td>...</td>\n",
       "      <td>-0.108300</td>\n",
       "      <td>0.005274</td>\n",
       "      <td>-0.190321</td>\n",
       "      <td>-1.175575</td>\n",
       "      <td>0.647376</td>\n",
       "      <td>-0.221929</td>\n",
       "      <td>0.062723</td>\n",
       "      <td>0.061458</td>\n",
       "      <td>123.50</td>\n",
       "      <td>0</td>\n",
       "    </tr>\n",
       "    <tr>\n",
       "      <th>4</th>\n",
       "      <td>2.0</td>\n",
       "      <td>-1.158233</td>\n",
       "      <td>0.877737</td>\n",
       "      <td>1.548718</td>\n",
       "      <td>0.403034</td>\n",
       "      <td>-0.407193</td>\n",
       "      <td>0.095921</td>\n",
       "      <td>0.592941</td>\n",
       "      <td>-0.270533</td>\n",
       "      <td>0.817739</td>\n",
       "      <td>...</td>\n",
       "      <td>-0.009431</td>\n",
       "      <td>0.798278</td>\n",
       "      <td>-0.137458</td>\n",
       "      <td>0.141267</td>\n",
       "      <td>-0.206010</td>\n",
       "      <td>0.502292</td>\n",
       "      <td>0.219422</td>\n",
       "      <td>0.215153</td>\n",
       "      <td>69.99</td>\n",
       "      <td>0</td>\n",
       "    </tr>\n",
       "  </tbody>\n",
       "</table>\n",
       "<p>5 rows × 31 columns</p>\n",
       "</div>"
      ],
      "text/plain": [
       "   Time        V1        V2        V3        V4        V5        V6        V7  \\\n",
       "0   0.0 -1.359807 -0.072781  2.536347  1.378155 -0.338321  0.462388  0.239599   \n",
       "1   0.0  1.191857  0.266151  0.166480  0.448154  0.060018 -0.082361 -0.078803   \n",
       "2   1.0 -1.358354 -1.340163  1.773209  0.379780 -0.503198  1.800499  0.791461   \n",
       "3   1.0 -0.966272 -0.185226  1.792993 -0.863291 -0.010309  1.247203  0.237609   \n",
       "4   2.0 -1.158233  0.877737  1.548718  0.403034 -0.407193  0.095921  0.592941   \n",
       "\n",
       "         V8        V9  ...       V21       V22       V23       V24       V25  \\\n",
       "0  0.098698  0.363787  ... -0.018307  0.277838 -0.110474  0.066928  0.128539   \n",
       "1  0.085102 -0.255425  ... -0.225775 -0.638672  0.101288 -0.339846  0.167170   \n",
       "2  0.247676 -1.514654  ...  0.247998  0.771679  0.909412 -0.689281 -0.327642   \n",
       "3  0.377436 -1.387024  ... -0.108300  0.005274 -0.190321 -1.175575  0.647376   \n",
       "4 -0.270533  0.817739  ... -0.009431  0.798278 -0.137458  0.141267 -0.206010   \n",
       "\n",
       "        V26       V27       V28  Amount  Class  \n",
       "0 -0.189115  0.133558 -0.021053  149.62      0  \n",
       "1  0.125895 -0.008983  0.014724    2.69      0  \n",
       "2 -0.139097 -0.055353 -0.059752  378.66      0  \n",
       "3 -0.221929  0.062723  0.061458  123.50      0  \n",
       "4  0.502292  0.219422  0.215153   69.99      0  \n",
       "\n",
       "[5 rows x 31 columns]"
      ]
     },
     "execution_count": 3,
     "metadata": {},
     "output_type": "execute_result"
    }
   ],
   "source": [
    "filePath = './datasets/CreditCard.csv'\n",
    "df = pd.read_csv(filepath_or_buffer=filePath, header=0, sep=',')\n",
    "print(df.shape[0])\n",
    "df.head()"
   ]
  },
  {
   "cell_type": "code",
   "execution_count": 4,
   "id": "67ca4a75",
   "metadata": {
    "ExecuteTime": {
     "end_time": "2021-10-04T05:50:33.003974Z",
     "start_time": "2021-10-04T05:50:32.927383Z"
    }
   },
   "outputs": [],
   "source": [
    "df['Amount'] = StandardScaler().fit_transform(df['Amount'].values.reshape(\n",
    "    -1, 1))\n",
    "df0 = df.query('Class == 0').sample(20000)\n",
    "df1 = df.query('Class == 1').sample(400)\n",
    "df = pd.concat([df0, df1])"
   ]
  },
  {
   "cell_type": "code",
   "execution_count": 5,
   "id": "5a98c8e0",
   "metadata": {
    "ExecuteTime": {
     "end_time": "2021-10-04T05:50:33.019980Z",
     "start_time": "2021-10-04T05:50:33.004976Z"
    }
   },
   "outputs": [
    {
     "name": "stdout",
     "output_type": "stream",
     "text": [
      "(16320, 29) train samples\n",
      "(4080, 29) test samples\n"
     ]
    }
   ],
   "source": [
    "x_train, x_test, y_train, y_test = train_test_split(df.drop(\n",
    "    labels=['Time', 'Class'], axis=1),\n",
    "                                                    df['Class'],\n",
    "                                                    test_size=0.2,\n",
    "                                                    random_state=42)\n",
    "print(x_train.shape, 'train samples')\n",
    "print(x_test.shape, 'test samples')"
   ]
  },
  {
   "cell_type": "code",
   "execution_count": 6,
   "id": "aa6137f7",
   "metadata": {
    "ExecuteTime": {
     "end_time": "2021-10-04T05:50:33.115292Z",
     "start_time": "2021-10-04T05:50:33.020974Z"
    }
   },
   "outputs": [
    {
     "name": "stdout",
     "output_type": "stream",
     "text": [
      "Model: \"model\"\n",
      "_________________________________________________________________\n",
      "Layer (type)                 Output Shape              Param #   \n",
      "=================================================================\n",
      "input_1 (InputLayer)         [(None, 29)]              0         \n",
      "_________________________________________________________________\n",
      "dense (Dense)                (None, 12)                360       \n",
      "_________________________________________________________________\n",
      "dense_1 (Dense)              (None, 29)                377       \n",
      "=================================================================\n",
      "Total params: 737\n",
      "Trainable params: 737\n",
      "Non-trainable params: 0\n",
      "_________________________________________________________________\n"
     ]
    }
   ],
   "source": [
    "# simple autoencoder\n",
    "logfilename = \"SimpleAutoencoder\"\n",
    "\n",
    "encoding_dim = 12\n",
    "input_dim = x_train.shape[1]\n",
    "\n",
    "inputArray = Input(shape=(input_dim, ))\n",
    "encoded = Dense(encoding_dim, activation='relu')(inputArray)\n",
    "\n",
    "decoded = Dense(input_dim, activation='softmax')(encoded)\n",
    "\n",
    "autoencoder = Model(inputArray, decoded)\n",
    "autoencoder.summary()"
   ]
  },
  {
   "cell_type": "code",
   "execution_count": 7,
   "id": "41d96373",
   "metadata": {
    "ExecuteTime": {
     "end_time": "2021-10-04T05:50:33.130207Z",
     "start_time": "2021-10-04T05:50:33.117293Z"
    }
   },
   "outputs": [],
   "source": [
    "autoencoder.compile(optimizer=tf.keras.optimizers.RMSprop(),\n",
    "                    loss='mean_squared_error',\n",
    "                    metrics=['mae', 'accuracy'])"
   ]
  },
  {
   "cell_type": "code",
   "execution_count": 8,
   "id": "078967e1",
   "metadata": {
    "ExecuteTime": {
     "end_time": "2021-10-04T05:50:38.762447Z",
     "start_time": "2021-10-04T05:50:33.131197Z"
    }
   },
   "outputs": [
    {
     "name": "stdout",
     "output_type": "stream",
     "text": [
      "Epoch 1/20\n",
      "510/510 [==============================] - 1s 762us/step - loss: 1.4751 - mae: 0.6747 - accuracy: 0.3446 - val_loss: 1.4559 - val_mae: 0.6679 - val_accuracy: 0.4544\n",
      "Epoch 2/20\n",
      "510/510 [==============================] - 0s 493us/step - loss: 1.4236 - mae: 0.6572 - accuracy: 0.5476 - val_loss: 1.4328 - val_mae: 0.6592 - val_accuracy: 0.6029\n",
      "Epoch 3/20\n",
      "510/510 [==============================] - 0s 504us/step - loss: 1.4091 - mae: 0.6524 - accuracy: 0.6643 - val_loss: 1.4248 - val_mae: 0.6572 - val_accuracy: 0.6792\n",
      "Epoch 4/20\n",
      "510/510 [==============================] - 0s 484us/step - loss: 1.4048 - mae: 0.6514 - accuracy: 0.7029 - val_loss: 1.4224 - val_mae: 0.6567 - val_accuracy: 0.6975\n",
      "Epoch 5/20\n",
      "510/510 [==============================] - 0s 490us/step - loss: 1.4033 - mae: 0.6510 - accuracy: 0.7175 - val_loss: 1.4213 - val_mae: 0.6564 - val_accuracy: 0.7130\n",
      "Epoch 6/20\n",
      "510/510 [==============================] - 0s 498us/step - loss: 1.4022 - mae: 0.6508 - accuracy: 0.7320 - val_loss: 1.4203 - val_mae: 0.6562 - val_accuracy: 0.7301\n",
      "Epoch 7/20\n",
      "510/510 [==============================] - 0s 543us/step - loss: 1.4015 - mae: 0.6507 - accuracy: 0.7430 - val_loss: 1.4199 - val_mae: 0.6561 - val_accuracy: 0.7360\n",
      "Epoch 8/20\n",
      "510/510 [==============================] - 0s 500us/step - loss: 1.4012 - mae: 0.6507 - accuracy: 0.7492 - val_loss: 1.4197 - val_mae: 0.6560 - val_accuracy: 0.7424\n",
      "Epoch 9/20\n",
      "510/510 [==============================] - 0s 483us/step - loss: 1.4010 - mae: 0.6506 - accuracy: 0.7510 - val_loss: 1.4196 - val_mae: 0.6560 - val_accuracy: 0.7439\n",
      "Epoch 10/20\n",
      "510/510 [==============================] - 0s 479us/step - loss: 1.4009 - mae: 0.6506 - accuracy: 0.7537 - val_loss: 1.4194 - val_mae: 0.6559 - val_accuracy: 0.7483\n",
      "Epoch 11/20\n",
      "510/510 [==============================] - 0s 490us/step - loss: 1.4008 - mae: 0.6506 - accuracy: 0.7550 - val_loss: 1.4192 - val_mae: 0.6559 - val_accuracy: 0.7490\n",
      "Epoch 12/20\n",
      "510/510 [==============================] - 0s 496us/step - loss: 1.4007 - mae: 0.6506 - accuracy: 0.7572 - val_loss: 1.4191 - val_mae: 0.6559 - val_accuracy: 0.7507\n",
      "Epoch 13/20\n",
      "510/510 [==============================] - 0s 499us/step - loss: 1.4006 - mae: 0.6505 - accuracy: 0.7586 - val_loss: 1.4190 - val_mae: 0.6559 - val_accuracy: 0.7537\n",
      "Epoch 14/20\n",
      "510/510 [==============================] - 0s 500us/step - loss: 1.4005 - mae: 0.6505 - accuracy: 0.7607 - val_loss: 1.4190 - val_mae: 0.6559 - val_accuracy: 0.7561\n",
      "Epoch 15/20\n",
      "510/510 [==============================] - 0s 498us/step - loss: 1.4005 - mae: 0.6505 - accuracy: 0.7614 - val_loss: 1.4189 - val_mae: 0.6558 - val_accuracy: 0.7564\n",
      "Epoch 16/20\n",
      "510/510 [==============================] - 0s 497us/step - loss: 1.4004 - mae: 0.6505 - accuracy: 0.7633 - val_loss: 1.4188 - val_mae: 0.6558 - val_accuracy: 0.7561\n",
      "Epoch 17/20\n",
      "510/510 [==============================] - 0s 492us/step - loss: 1.4004 - mae: 0.6505 - accuracy: 0.7638 - val_loss: 1.4188 - val_mae: 0.6558 - val_accuracy: 0.7598\n",
      "Epoch 18/20\n",
      "510/510 [==============================] - 0s 502us/step - loss: 1.4003 - mae: 0.6505 - accuracy: 0.7659 - val_loss: 1.4187 - val_mae: 0.6558 - val_accuracy: 0.7598\n",
      "Epoch 19/20\n",
      "510/510 [==============================] - 0s 488us/step - loss: 1.4003 - mae: 0.6505 - accuracy: 0.7662 - val_loss: 1.4187 - val_mae: 0.6558 - val_accuracy: 0.7600\n",
      "Epoch 20/20\n",
      "510/510 [==============================] - 0s 486us/step - loss: 1.4003 - mae: 0.6505 - accuracy: 0.7673 - val_loss: 1.4186 - val_mae: 0.6558 - val_accuracy: 0.7598\n"
     ]
    }
   ],
   "source": [
    "batch_size = 32\n",
    "epochs = 20\n",
    "\n",
    "history = autoencoder.fit(\n",
    "    x_train,\n",
    "    x_train,\n",
    "    batch_size=batch_size,\n",
    "    epochs=epochs,\n",
    "    verbose=1,\n",
    "    shuffle=True,\n",
    "    validation_data=(x_test, x_test),\n",
    "    #     callbacks=[TensorBoard(log_dir='../logs/{0}'.format(logfilename))]\n",
    ")"
   ]
  },
  {
   "cell_type": "code",
   "execution_count": 9,
   "id": "3c49bbe8",
   "metadata": {
    "ExecuteTime": {
     "end_time": "2021-10-04T05:50:38.874069Z",
     "start_time": "2021-10-04T05:50:38.763065Z"
    }
   },
   "outputs": [
    {
     "name": "stdout",
     "output_type": "stream",
     "text": [
      "128/128 [==============================] - 0s 370us/step - loss: 1.4186 - mae: 0.6558 - accuracy: 0.7598\n",
      "Test loss: 1.4186193943023682\n",
      "Test accuracy: 0.655783474445343\n"
     ]
    }
   ],
   "source": [
    "score = autoencoder.evaluate(x_test, x_test, verbose=1)\n",
    "print('Test loss:', score[0])\n",
    "print('Test accuracy:', score[1])"
   ]
  },
  {
   "cell_type": "code",
   "execution_count": 10,
   "id": "508129ad",
   "metadata": {
    "ExecuteTime": {
     "end_time": "2021-10-04T05:50:39.077452Z",
     "start_time": "2021-10-04T05:50:38.875070Z"
    }
   },
   "outputs": [],
   "source": [
    "threshold = 10.00\n",
    "'''\n",
    "If you observe the four classification reports,\n",
    "you can see that the precision and recall columns are not good\n",
    "(note the very low values for precision and recall in row 0 and row 1) \n",
    "for threshold = 1 or 5.\n",
    "They look better for threshold = 10 or 15.\n",
    "In fact, threshold = 10 looks pretty good with a good recall\n",
    "and also higher precision than for threshold = 1 or 5.\n",
    "'''\n",
    "\n",
    "y_pred = autoencoder.predict(x_test)\n",
    "y_dist = np.linalg.norm(x_test - y_pred, axis=-1)\n",
    "z = zip(y_dist >= threshold, y_dist)\n",
    "y_label = []\n",
    "error = []\n",
    "for idx, (is_anomaly, y_dist) in enumerate(z):\n",
    "    if is_anomaly:\n",
    "        y_label.append(1)\n",
    "    else:\n",
    "        y_label.append(0)\n",
    "    error.append(y_dist)"
   ]
  },
  {
   "cell_type": "code",
   "execution_count": 11,
   "id": "ed3f45e2",
   "metadata": {
    "ExecuteTime": {
     "end_time": "2021-10-04T05:50:39.092668Z",
     "start_time": "2021-10-04T05:50:39.078453Z"
    }
   },
   "outputs": [
    {
     "name": "stdout",
     "output_type": "stream",
     "text": [
      "              precision    recall  f1-score   support\n",
      "\n",
      "           0       0.99      0.97      0.98      3987\n",
      "           1       0.40      0.75      0.52        93\n",
      "\n",
      "    accuracy                           0.97      4080\n",
      "   macro avg       0.70      0.86      0.75      4080\n",
      "weighted avg       0.98      0.97      0.97      4080\n",
      "\n"
     ]
    }
   ],
   "source": [
    "print(classification_report(y_test, y_label))"
   ]
  },
  {
   "cell_type": "code",
   "execution_count": 12,
   "id": "ee25ea72",
   "metadata": {
    "ExecuteTime": {
     "end_time": "2021-10-04T05:50:39.108701Z",
     "start_time": "2021-10-04T05:50:39.093626Z"
    }
   },
   "outputs": [
    {
     "data": {
      "text/plain": [
       "0.8630508831120496"
      ]
     },
     "execution_count": 12,
     "metadata": {},
     "output_type": "execute_result"
    }
   ],
   "source": [
    "roc_auc_score(y_test, y_label)"
   ]
  },
  {
   "cell_type": "code",
   "execution_count": 13,
   "id": "1629fb4a",
   "metadata": {
    "ExecuteTime": {
     "end_time": "2021-10-04T05:50:39.278390Z",
     "start_time": "2021-10-04T05:50:39.109678Z"
    }
   },
   "outputs": [
    {
     "data": {
      "image/png": "[encoded data removed]",
      "text/plain": [
       "<Figure size 720x576 with 2 Axes>"
      ]
     },
     "metadata": {
      "needs_background": "light"
     },
     "output_type": "display_data"
    }
   ],
   "source": [
    "viz = Visualization()\n",
    "\n",
    "viz.draw_confusion_matrix(y_test, y_label)"
   ]
  },
  {
   "cell_type": "code",
   "execution_count": 14,
   "id": "0d747f25",
   "metadata": {
    "ExecuteTime": {
     "end_time": "2021-10-04T05:50:39.435007Z",
     "start_time": "2021-10-04T05:50:39.279391Z"
    }
   },
   "outputs": [
    {
     "data": {
      "image/png": "[encoded data removed]",
      "text/plain": [
       "<Figure size 864x576 with 1 Axes>"
      ]
     },
     "metadata": {
      "needs_background": "light"
     },
     "output_type": "display_data"
    }
   ],
   "source": [
    "viz.draw_anomaly(y_test, error, threshold)"
   ]
  }
 ],
 "metadata": {
  "kernelspec": {
   "display_name": "Python 3",
   "language": "python",
   "name": "python3"
  },
  "language_info": {
   "codemirror_mode": {
    "name": "ipython",
    "version": 3
   },
   "file_extension": ".py",
   "mimetype": "text/x-python",
   "name": "python",
   "nbconvert_exporter": "python",
   "pygments_lexer": "ipython3",
   "version": "3.8.10"
  },
  "toc": {
   "base_numbering": 1,
   "nav_menu": {},
   "number_sections": true,
   "sideBar": true,
   "skip_h1_title": false,
   "title_cell": "Table of Contents",
   "title_sidebar": "Contents",
   "toc_cell": false,
   "toc_position": {},
   "toc_section_display": true,
   "toc_window_display": false
  }
 },
 "nbformat": 4,
 "nbformat_minor": 5
}
