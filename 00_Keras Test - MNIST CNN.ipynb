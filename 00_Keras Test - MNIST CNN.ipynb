{
 "cells": [
  {
   "cell_type": "code",
   "execution_count": 1,
   "id": "bb8172ef",
   "metadata": {
    "ExecuteTime": {
     "end_time": "2021-09-23T22:18:12.131634Z",
     "start_time": "2021-09-23T22:18:08.264225Z"
    }
   },
   "outputs": [],
   "source": [
    "import tensorflow as tf\n",
    "import keras\n",
    "from keras.datasets import mnist\n",
    "from keras.models import Sequential\n",
    "from keras.layers import Dense, Dropout, Flatten, Input\n",
    "from keras.layers import Conv2D, MaxPooling2D\n",
    "from keras import backend as K\n",
    "from keras.callbacks import ModelCheckpoint\n",
    "\n",
    "import numpy as np"
   ]
  },
  {
   "cell_type": "code",
   "execution_count": 2,
   "id": "4f7dae7e",
   "metadata": {
    "ExecuteTime": {
     "end_time": "2021-09-23T22:18:12.137617Z",
     "start_time": "2021-09-23T22:18:12.132631Z"
    }
   },
   "outputs": [],
   "source": [
    "batch_size = 128\n",
    "n_classes = 10\n",
    "n_epochs = 15\n",
    "\n",
    "im_row, im_col = 28, 28"
   ]
  },
  {
   "cell_type": "code",
   "execution_count": 3,
   "id": "c420bbdd",
   "metadata": {
    "ExecuteTime": {
     "end_time": "2021-09-23T22:18:12.343573Z",
     "start_time": "2021-09-23T22:18:12.138615Z"
    }
   },
   "outputs": [],
   "source": [
    "(x_train, y_train), (x_test, y_test) = mnist.load_data()"
   ]
  },
  {
   "cell_type": "code",
   "execution_count": 4,
   "id": "018f1855",
   "metadata": {
    "ExecuteTime": {
     "end_time": "2021-09-23T22:18:12.716577Z",
     "start_time": "2021-09-23T22:18:12.343573Z"
    }
   },
   "outputs": [
    {
     "data": {
      "image/png": "[encoded data removed]",
      "text/plain": [
       "<Figure size 432x288 with 1 Axes>"
      ]
     },
     "metadata": {
      "needs_background": "light"
     },
     "output_type": "display_data"
    }
   ],
   "source": [
    "import matplotlib.pyplot as plt\n",
    "%matplotlib inline\n",
    "\n",
    "plt.imshow(x_train[1], cmap='gray')\n",
    "plt.show()"
   ]
  },
  {
   "cell_type": "code",
   "execution_count": 5,
   "id": "d32564f0",
   "metadata": {
    "ExecuteTime": {
     "end_time": "2021-09-23T22:18:13.097583Z",
     "start_time": "2021-09-23T22:18:12.717574Z"
    }
   },
   "outputs": [
    {
     "data": {
      "image/png": "[encoded data removed]",
      "text/plain": [
       "<Figure size 1080x720 with 10 Axes>"
      ]
     },
     "metadata": {},
     "output_type": "display_data"
    }
   ],
   "source": [
    "fig = plt.figure(figsize=(15, 10))\n",
    "\n",
    "i = 0\n",
    "for f in range(0, y_train.shape[0]):\n",
    "    if(y_train[f] == 1 and i < 10):\n",
    "        plt.subplot(2, 5, i+1)\n",
    "        plt.imshow(x_train[f], cmap='gray')\n",
    "        plt.xticks([])\n",
    "        plt.yticks([])\n",
    "        i = i + 1\n",
    "\n",
    "plt.show()"
   ]
  },
  {
   "cell_type": "code",
   "execution_count": 6,
   "id": "ef899c52",
   "metadata": {
    "ExecuteTime": {
     "end_time": "2021-09-23T22:18:13.103541Z",
     "start_time": "2021-09-23T22:18:13.098554Z"
    }
   },
   "outputs": [
    {
     "name": "stdout",
     "output_type": "stream",
     "text": [
      "x_train: (60000, 28, 28)\n",
      "x_test: (10000, 28, 28)\n",
      "\n"
     ]
    }
   ],
   "source": [
    "print(\"x_train: {}\\nx_test: {}\\n\".format(\n",
    "    x_train.shape, x_test.shape, ))"
   ]
  },
  {
   "cell_type": "code",
   "execution_count": 7,
   "id": "dcddc439",
   "metadata": {
    "ExecuteTime": {
     "end_time": "2021-09-23T22:18:13.109525Z",
     "start_time": "2021-09-23T22:18:13.104539Z"
    }
   },
   "outputs": [],
   "source": [
    "if K.image_data_format() == 'channels_first':\n",
    "    x_train = x_train.reshape(x_train.shape[0], 1, im_row, im_col)\n",
    "    x_test = x_test.reshape(x_test.shape[0], 1, im_row, im_col)\n",
    "    input_shape = (1, im_row, im_col)\n",
    "else:\n",
    "    x_train = x_train.reshape(x_train.shape[0], im_row, im_col, 1)\n",
    "    x_test = x_test.reshape(x_test.shape[0], im_row, im_col, 1)\n",
    "    input_shape = (im_row, im_col, 1)"
   ]
  },
  {
   "cell_type": "code",
   "execution_count": 8,
   "id": "c715eb34",
   "metadata": {
    "ExecuteTime": {
     "end_time": "2021-09-23T22:18:13.115510Z",
     "start_time": "2021-09-23T22:18:13.110522Z"
    }
   },
   "outputs": [
    {
     "name": "stdout",
     "output_type": "stream",
     "text": [
      "7\n"
     ]
    }
   ],
   "source": [
    "print(y_test[0])"
   ]
  },
  {
   "cell_type": "code",
   "execution_count": 9,
   "id": "8b5b7bae",
   "metadata": {
    "ExecuteTime": {
     "end_time": "2021-09-23T22:18:13.187317Z",
     "start_time": "2021-09-23T22:18:13.116507Z"
    }
   },
   "outputs": [],
   "source": [
    "from keras.utils import np_utils\n",
    "\n",
    "x_train = x_train.astype('float32')\n",
    "x_test = x_test.astype('float32')\n",
    "x_train /= 255\n",
    "x_test /= 255\n",
    "\n",
    "y_train = np_utils.to_categorical(y_train, n_classes)\n",
    "y_test = np_utils.to_categorical(y_test, n_classes)"
   ]
  },
  {
   "cell_type": "code",
   "execution_count": 10,
   "id": "a2d855fe",
   "metadata": {
    "ExecuteTime": {
     "end_time": "2021-09-23T22:18:13.191307Z",
     "start_time": "2021-09-23T22:18:13.188315Z"
    }
   },
   "outputs": [
    {
     "name": "stdout",
     "output_type": "stream",
     "text": [
      "x_train: (60000, 28, 28, 1)\n",
      "x_test: (10000, 28, 28, 1)\n",
      "input_shape: (28, 28, 1)\n",
      "# of training samples: 60000\n",
      "# of testing samples: 10000\n"
     ]
    }
   ],
   "source": [
    "print(\"x_train: {}\\nx_test: {}\\ninput_shape: {}\\n\\\n",
    "# of training samples: {}\\n# of testing samples: {}\".format(\n",
    "    x_train.shape, x_test.shape, input_shape, x_train.shape[0],\n",
    "    x_test.shape[0]))"
   ]
  },
  {
   "cell_type": "code",
   "execution_count": 11,
   "id": "35ce5a89",
   "metadata": {
    "ExecuteTime": {
     "end_time": "2021-09-23T22:18:13.403299Z",
     "start_time": "2021-09-23T22:18:13.192304Z"
    }
   },
   "outputs": [
    {
     "name": "stdout",
     "output_type": "stream",
     "text": [
      "Model: \"sequential\"\n",
      "_________________________________________________________________\n",
      "Layer (type)                 Output Shape              Param #   \n",
      "=================================================================\n",
      "conv2d (Conv2D)              (None, 26, 26, 32)        320       \n",
      "_________________________________________________________________\n",
      "conv2d_1 (Conv2D)            (None, 24, 24, 64)        18496     \n",
      "_________________________________________________________________\n",
      "max_pooling2d (MaxPooling2D) (None, 12, 12, 64)        0         \n",
      "_________________________________________________________________\n",
      "dropout (Dropout)            (None, 12, 12, 64)        0         \n",
      "_________________________________________________________________\n",
      "flatten (Flatten)            (None, 9216)              0         \n",
      "_________________________________________________________________\n",
      "dense (Dense)                (None, 128)               1179776   \n",
      "_________________________________________________________________\n",
      "dropout_1 (Dropout)          (None, 128)               0         \n",
      "_________________________________________________________________\n",
      "dense_1 (Dense)              (None, 10)                1290      \n",
      "=================================================================\n",
      "Total params: 1,199,882\n",
      "Trainable params: 1,199,882\n",
      "Non-trainable params: 0\n",
      "_________________________________________________________________\n"
     ]
    }
   ],
   "source": [
    "from tensorflow.keras.optimizers import Adam\n",
    "\n",
    "model = Sequential()\n",
    "model.add(\n",
    "    Conv2D(32, kernel_size=(3, 3), activation='relu', input_shape=input_shape))\n",
    "model.add(Conv2D(64, (3, 3), activation='relu'))\n",
    "model.add(MaxPooling2D(pool_size=(2, 2)))\n",
    "model.add(Dropout(0.25))\n",
    "model.add(Flatten())\n",
    "model.add(Dense(128, activation='relu'))\n",
    "model.add(Dropout(0.5))\n",
    "model.add(Dense(n_classes, activation='softmax'))\n",
    "\n",
    "model.compile(loss=keras.losses.categorical_crossentropy,\n",
    "              optimizer=\"adam\",\n",
    "              metrics=['accuracy'])\n",
    "\n",
    "model.summary()"
   ]
  },
  {
   "cell_type": "code",
   "execution_count": 12,
   "id": "218d2020",
   "metadata": {
    "ExecuteTime": {
     "end_time": "2021-09-23T22:26:12.569342Z",
     "start_time": "2021-09-23T22:18:13.404294Z"
    }
   },
   "outputs": [
    {
     "name": "stdout",
     "output_type": "stream",
     "text": [
      "Epoch 1/15\n",
      "469/469 [==============================] - 44s 65ms/step - loss: 0.4549 - accuracy: 0.8573 - val_loss: 0.0516 - val_accuracy: 0.9838\n",
      "Epoch 2/15\n",
      "469/469 [==============================] - 31s 66ms/step - loss: 0.0931 - accuracy: 0.9709 - val_loss: 0.0374 - val_accuracy: 0.9885\n",
      "Epoch 3/15\n",
      "469/469 [==============================] - 31s 66ms/step - loss: 0.0635 - accuracy: 0.9808 - val_loss: 0.0357 - val_accuracy: 0.9886\n",
      "Epoch 4/15\n",
      "469/469 [==============================] - 31s 67ms/step - loss: 0.0537 - accuracy: 0.9831 - val_loss: 0.0283 - val_accuracy: 0.9900\n",
      "Epoch 5/15\n",
      "469/469 [==============================] - 31s 66ms/step - loss: 0.0489 - accuracy: 0.9854 - val_loss: 0.0302 - val_accuracy: 0.9906\n",
      "Epoch 6/15\n",
      "469/469 [==============================] - 31s 65ms/step - loss: 0.0378 - accuracy: 0.9876 - val_loss: 0.0267 - val_accuracy: 0.9917\n",
      "Epoch 7/15\n",
      "469/469 [==============================] - 31s 66ms/step - loss: 0.0341 - accuracy: 0.9893 - val_loss: 0.0295 - val_accuracy: 0.9914\n",
      "Epoch 8/15\n",
      "469/469 [==============================] - 31s 65ms/step - loss: 0.0309 - accuracy: 0.9905 - val_loss: 0.0241 - val_accuracy: 0.9923\n",
      "Epoch 9/15\n",
      "469/469 [==============================] - 30s 64ms/step - loss: 0.0260 - accuracy: 0.9919 - val_loss: 0.0276 - val_accuracy: 0.9915\n",
      "Epoch 10/15\n",
      "469/469 [==============================] - 31s 66ms/step - loss: 0.0259 - accuracy: 0.9914 - val_loss: 0.0260 - val_accuracy: 0.9922\n",
      "Epoch 11/15\n",
      "469/469 [==============================] - 31s 66ms/step - loss: 0.0242 - accuracy: 0.9923 - val_loss: 0.0301 - val_accuracy: 0.9922\n",
      "Epoch 12/15\n",
      "469/469 [==============================] - 31s 67ms/step - loss: 0.0190 - accuracy: 0.9936 - val_loss: 0.0268 - val_accuracy: 0.9931\n",
      "Epoch 13/15\n",
      "469/469 [==============================] - 31s 66ms/step - loss: 0.0200 - accuracy: 0.9937 - val_loss: 0.0264 - val_accuracy: 0.9923\n",
      "Epoch 14/15\n",
      "469/469 [==============================] - 31s 66ms/step - loss: 0.0186 - accuracy: 0.9937 - val_loss: 0.0290 - val_accuracy: 0.9925\n",
      "Epoch 15/15\n",
      "469/469 [==============================] - 31s 67ms/step - loss: 0.0172 - accuracy: 0.9946 - val_loss: 0.0302 - val_accuracy: 0.9923\n",
      "Test loss: 0.030151519924402237\n",
      "Test accuracy: 0.9922999739646912\n"
     ]
    }
   ],
   "source": [
    "model.fit(x_train,\n",
    "          y_train,\n",
    "          batch_size=batch_size,\n",
    "          epochs=n_epochs,\n",
    "          verbose=1,\n",
    "          validation_data=(x_test, y_test))\n",
    "\n",
    "score = model.evaluate(x_test, y_test, verbose=0)\n",
    "print('Test loss:', score[0])\n",
    "print('Test accuracy:', score[1])"
   ]
  },
  {
   "cell_type": "code",
   "execution_count": 13,
   "id": "e7aef05c",
   "metadata": {
    "ExecuteTime": {
     "end_time": "2021-09-23T22:26:15.542338Z",
     "start_time": "2021-09-23T22:26:12.570340Z"
    }
   },
   "outputs": [
    {
     "name": "stdout",
     "output_type": "stream",
     "text": [
      "AUC: 99.58%\n"
     ]
    }
   ],
   "source": [
    "from sklearn.metrics import roc_auc_score\n",
    "\n",
    "preds = model.predict(x_test)\n",
    "auc = roc_auc_score(np.round(preds), y_test)\n",
    "print(\"AUC: {:.2%}\".format(auc))"
   ]
  },
  {
   "cell_type": "code",
   "execution_count": 14,
   "id": "e767c9f4",
   "metadata": {
    "ExecuteTime": {
     "end_time": "2021-09-23T22:26:15.552310Z",
     "start_time": "2021-09-23T22:26:15.543334Z"
    }
   },
   "outputs": [
    {
     "data": {
      "text/plain": [
       "array([[0., 0., 0., ..., 1., 0., 0.],\n",
       "       [0., 0., 1., ..., 0., 0., 0.],\n",
       "       [0., 1., 0., ..., 0., 0., 0.],\n",
       "       ...,\n",
       "       [0., 0., 0., ..., 0., 0., 0.],\n",
       "       [0., 0., 0., ..., 0., 0., 0.],\n",
       "       [0., 0., 0., ..., 0., 0., 0.]], dtype=float32)"
      ]
     },
     "execution_count": 14,
     "metadata": {},
     "output_type": "execute_result"
    }
   ],
   "source": [
    "np.round(preds)"
   ]
  },
  {
   "cell_type": "code",
   "execution_count": 15,
   "id": "24e0826a",
   "metadata": {
    "ExecuteTime": {
     "end_time": "2021-09-23T22:26:16.839204Z",
     "start_time": "2021-09-23T22:26:15.553307Z"
    }
   },
   "outputs": [
    {
     "name": "stdout",
     "output_type": "stream",
     "text": [
      "Predictions for x_test[0]: [7.4765190e-17 4.5625032e-12 6.8259148e-12 3.0499620e-12 4.5443731e-14\n",
      " 2.0908610e-14 2.4358361e-21 1.0000000e+00 8.2378025e-16 7.0998263e-10]\n",
      "\n",
      "Actual label for x_test[0]: [0. 0. 0. 0. 0. 0. 0. 1. 0. 0.]\n",
      "\n",
      "Predictions for x_test[0] after rounding: [0. 0. 0. 0. 0. 0. 0. 1. 0. 0.]\n",
      "\n"
     ]
    }
   ],
   "source": [
    "preds = model.predict(x_test)\n",
    "print(\"Predictions for x_test[0]: {}\\n\\nActual label for x_test[0]: {}\\n\".format(\n",
    "    preds[0], y_test[0]))\n",
    "print(\"Predictions for x_test[0] after rounding: {}\\n\".format(\n",
    "    np.round(preds)[0]))"
   ]
  },
  {
   "cell_type": "code",
   "execution_count": 16,
   "id": "ba259f4d",
   "metadata": {
    "ExecuteTime": {
     "end_time": "2021-09-23T22:27:14.693497Z",
     "start_time": "2021-09-23T22:26:16.840202Z"
    }
   },
   "outputs": [
    {
     "data": {
      "image/png": "[encoded data removed]",
      "text/plain": [
       "<Figure size 1080x720 with 3 Axes>"
      ]
     },
     "metadata": {},
     "output_type": "display_data"
    }
   ],
   "source": [
    "from keras import models\n",
    "\n",
    "layers = [layer.output for layer in model.layers[:4]]\n",
    "model_layers = models.Model(inputs=model.input, outputs=layers)\n",
    "activations = model_layers.predict(x_train)\n",
    "\n",
    "fig = plt.figure(figsize=(15, 10))\n",
    "\n",
    "plt.subplot(1, 3, 1)\n",
    "plt.title(\"Original\")\n",
    "plt.imshow(x_train[7].reshape(28, 28), cmap='gray')\n",
    "plt.xticks([])\n",
    "plt.yticks([])\n",
    "\n",
    "for f in range(1, 3):\n",
    "    plt.subplot(1, 3, f + 1)\n",
    "    plt.title(\"Convolutional layer %d\" % f)\n",
    "    layer_activation = activations[f]\n",
    "    plt.imshow(layer_activation[7, :, :, 0], cmap='gray')\n",
    "    plt.xticks([])\n",
    "    plt.yticks([])\n",
    "\n",
    "plt.show()"
   ]
  }
 ],
 "metadata": {
  "kernelspec": {
   "display_name": "Python 3",
   "language": "python",
   "name": "python3"
  },
  "language_info": {
   "codemirror_mode": {
    "name": "ipython",
    "version": 3
   },
   "file_extension": ".py",
   "mimetype": "text/x-python",
   "name": "python",
   "nbconvert_exporter": "python",
   "pygments_lexer": "ipython3",
   "version": "3.8.10"
  },
  "toc": {
   "base_numbering": 1,
   "nav_menu": {},
   "number_sections": true,
   "sideBar": true,
   "skip_h1_title": false,
   "title_cell": "Table of Contents",
   "title_sidebar": "Contents",
   "toc_cell": false,
   "toc_position": {},
   "toc_section_display": true,
   "toc_window_display": false
  }
 },
 "nbformat": 4,
 "nbformat_minor": 5
}
